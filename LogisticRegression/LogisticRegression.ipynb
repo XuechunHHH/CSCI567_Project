{
 "cells": [
  {
   "cell_type": "code",
   "execution_count": 33,
   "id": "initial_id",
   "metadata": {
    "collapsed": true,
    "ExecuteTime": {
     "end_time": "2024-05-05T05:42:56.690979Z",
     "start_time": "2024-05-05T05:42:56.677133Z"
    }
   },
   "outputs": [],
   "source": [
    "import pandas as pd\n",
    "import numpy as np\n",
    "from sklearn.model_selection import train_test_split\n",
    "from sklearn.linear_model import LogisticRegression\n",
    "from sklearn.preprocessing import StandardScaler\n",
    "from sklearn.pipeline import make_pipeline\n",
    "from sklearn.multiclass import OneVsRestClassifier\n",
    "from sklearn.metrics import accuracy_score, precision_score, recall_score, f1_score\n",
    "from sklearn.model_selection import GridSearchCV\n",
    "from sklearn.metrics import confusion_matrix\n",
    "import matplotlib.pyplot as plt\n",
    "import seaborn as sns\n",
    "from sklearn.decomposition import PCA\n",
    "from sklearn.pipeline import Pipeline\n",
    "from sklearn.metrics import log_loss"
   ]
  },
  {
   "cell_type": "code",
   "outputs": [
    {
     "data": {
      "text/plain": "   ID    N_Days       Age  Bilirubin  Cholesterol   Albumin    Copper  \\\n0   1 -1.432360  0.827904   2.485914    -0.491215 -2.194559  0.684867   \n1   2  2.223526  0.608395  -0.476689    -0.305613  1.478942 -0.512297   \n2   3 -0.886652  1.898239  -0.410362    -0.876001 -0.095416  1.318660   \n3   4 -0.072549  0.446938  -0.321927    -0.568172 -2.337683 -0.394928   \n4   5 -0.447946 -1.127724   0.031817    -0.409731  0.023854  0.532288   \n\n   Alk_Phos      SGOT  Tryglicerides  Platelets  Prothrombin     Stage  \\\n0 -0.123847  0.271931       0.764998  -0.757816     1.470371  1.104369   \n1  2.532642 -0.159629      -0.593622  -0.430953    -0.125301 -0.036569   \n2 -0.686329 -0.467356      -1.127366  -1.169029     1.270912  1.104369   \n3  1.936935 -1.093939      -0.528926  -0.831623    -0.424490  1.104369   \n4 -0.613796 -0.166165      -0.852407  -1.327189     0.173887 -0.036569   \n\n   Status  Drug  Sex  Ascites  Hepatomegaly  Spiders  Edema  \n0       0     0    0        0             0        0      0  \n1       1     0    0        1             0        0      1  \n2       0     0    1        1             1        1      2  \n3       0     0    0        1             0        0      2  \n4       2     1    0        1             0        0      1  ",
      "text/html": "<div>\n<style scoped>\n    .dataframe tbody tr th:only-of-type {\n        vertical-align: middle;\n    }\n\n    .dataframe tbody tr th {\n        vertical-align: top;\n    }\n\n    .dataframe thead th {\n        text-align: right;\n    }\n</style>\n<table border=\"1\" class=\"dataframe\">\n  <thead>\n    <tr style=\"text-align: right;\">\n      <th></th>\n      <th>ID</th>\n      <th>N_Days</th>\n      <th>Age</th>\n      <th>Bilirubin</th>\n      <th>Cholesterol</th>\n      <th>Albumin</th>\n      <th>Copper</th>\n      <th>Alk_Phos</th>\n      <th>SGOT</th>\n      <th>Tryglicerides</th>\n      <th>Platelets</th>\n      <th>Prothrombin</th>\n      <th>Stage</th>\n      <th>Status</th>\n      <th>Drug</th>\n      <th>Sex</th>\n      <th>Ascites</th>\n      <th>Hepatomegaly</th>\n      <th>Spiders</th>\n      <th>Edema</th>\n    </tr>\n  </thead>\n  <tbody>\n    <tr>\n      <th>0</th>\n      <td>1</td>\n      <td>-1.432360</td>\n      <td>0.827904</td>\n      <td>2.485914</td>\n      <td>-0.491215</td>\n      <td>-2.194559</td>\n      <td>0.684867</td>\n      <td>-0.123847</td>\n      <td>0.271931</td>\n      <td>0.764998</td>\n      <td>-0.757816</td>\n      <td>1.470371</td>\n      <td>1.104369</td>\n      <td>0</td>\n      <td>0</td>\n      <td>0</td>\n      <td>0</td>\n      <td>0</td>\n      <td>0</td>\n      <td>0</td>\n    </tr>\n    <tr>\n      <th>1</th>\n      <td>2</td>\n      <td>2.223526</td>\n      <td>0.608395</td>\n      <td>-0.476689</td>\n      <td>-0.305613</td>\n      <td>1.478942</td>\n      <td>-0.512297</td>\n      <td>2.532642</td>\n      <td>-0.159629</td>\n      <td>-0.593622</td>\n      <td>-0.430953</td>\n      <td>-0.125301</td>\n      <td>-0.036569</td>\n      <td>1</td>\n      <td>0</td>\n      <td>0</td>\n      <td>1</td>\n      <td>0</td>\n      <td>0</td>\n      <td>1</td>\n    </tr>\n    <tr>\n      <th>2</th>\n      <td>3</td>\n      <td>-0.886652</td>\n      <td>1.898239</td>\n      <td>-0.410362</td>\n      <td>-0.876001</td>\n      <td>-0.095416</td>\n      <td>1.318660</td>\n      <td>-0.686329</td>\n      <td>-0.467356</td>\n      <td>-1.127366</td>\n      <td>-1.169029</td>\n      <td>1.270912</td>\n      <td>1.104369</td>\n      <td>0</td>\n      <td>0</td>\n      <td>1</td>\n      <td>1</td>\n      <td>1</td>\n      <td>1</td>\n      <td>2</td>\n    </tr>\n    <tr>\n      <th>3</th>\n      <td>4</td>\n      <td>-0.072549</td>\n      <td>0.446938</td>\n      <td>-0.321927</td>\n      <td>-0.568172</td>\n      <td>-2.337683</td>\n      <td>-0.394928</td>\n      <td>1.936935</td>\n      <td>-1.093939</td>\n      <td>-0.528926</td>\n      <td>-0.831623</td>\n      <td>-0.424490</td>\n      <td>1.104369</td>\n      <td>0</td>\n      <td>0</td>\n      <td>0</td>\n      <td>1</td>\n      <td>0</td>\n      <td>0</td>\n      <td>2</td>\n    </tr>\n    <tr>\n      <th>4</th>\n      <td>5</td>\n      <td>-0.447946</td>\n      <td>-1.127724</td>\n      <td>0.031817</td>\n      <td>-0.409731</td>\n      <td>0.023854</td>\n      <td>0.532288</td>\n      <td>-0.613796</td>\n      <td>-0.166165</td>\n      <td>-0.852407</td>\n      <td>-1.327189</td>\n      <td>0.173887</td>\n      <td>-0.036569</td>\n      <td>2</td>\n      <td>1</td>\n      <td>0</td>\n      <td>1</td>\n      <td>0</td>\n      <td>0</td>\n      <td>1</td>\n    </tr>\n  </tbody>\n</table>\n</div>"
     },
     "execution_count": 34,
     "metadata": {},
     "output_type": "execute_result"
    }
   ],
   "source": [
    "# Load the data\n",
    "data_path = 'cirrhosis_clean.csv'\n",
    "data = pd.read_csv(data_path)\n",
    "# Display the first few rows of the dataframe to understand its structure\n",
    "data.head()"
   ],
   "metadata": {
    "collapsed": false,
    "ExecuteTime": {
     "end_time": "2024-05-05T05:42:56.700032Z",
     "start_time": "2024-05-05T05:42:56.680588Z"
    }
   },
   "id": "5b4c999d6299c094",
   "execution_count": 34
  },
  {
   "cell_type": "code",
   "outputs": [
    {
     "data": {
      "text/plain": "(218, 47, 47)"
     },
     "execution_count": 35,
     "metadata": {},
     "output_type": "execute_result"
    }
   ],
   "source": [
    "# Separate the features and the target variable\n",
    "X = data.drop(['ID', 'Status'], axis=1)\n",
    "y = data['Status']\n",
    "\n",
    "# Split the data into train+validation (85%) and test (15%)\n",
    "X_train_val, X_test, y_train_val, y_test = train_test_split(X, y, test_size=0.15, random_state=42)\n",
    "\n",
    "# Split the train+validation into train (70%) and validation (15%)\n",
    "X_train, X_val, y_train, y_val = train_test_split(X_train_val, y_train_val, test_size=0.1765, random_state=42)  # 0.1765 of 85% is approximately 15% of the whole\n",
    "\n",
    "# Check the size of each set to confirm the split ratio\n",
    "len(X_train), len(X_val), len(X_test)"
   ],
   "metadata": {
    "collapsed": false,
    "ExecuteTime": {
     "end_time": "2024-05-05T05:42:56.722450Z",
     "start_time": "2024-05-05T05:42:56.702912Z"
    }
   },
   "id": "bc378979a2772e76",
   "execution_count": 35
  },
  {
   "cell_type": "code",
   "outputs": [
    {
     "name": "stdout",
     "output_type": "stream",
     "text": [
      "Fitting 5 folds for each of 40 candidates, totalling 200 fits\n"
     ]
    },
    {
     "name": "stderr",
     "output_type": "stream",
     "text": [
      "/Users/mac/opt/anaconda3/envs/csci567_2/lib/python3.8/site-packages/sklearn/linear_model/_sag.py:350: ConvergenceWarning: The max_iter was reached which means the coef_ did not converge\n",
      "  warnings.warn(\n",
      "/Users/mac/opt/anaconda3/envs/csci567_2/lib/python3.8/site-packages/sklearn/linear_model/_sag.py:350: ConvergenceWarning: The max_iter was reached which means the coef_ did not converge\n",
      "  warnings.warn(\n",
      "/Users/mac/opt/anaconda3/envs/csci567_2/lib/python3.8/site-packages/sklearn/linear_model/_sag.py:350: ConvergenceWarning: The max_iter was reached which means the coef_ did not converge\n",
      "  warnings.warn(\n",
      "/Users/mac/opt/anaconda3/envs/csci567_2/lib/python3.8/site-packages/sklearn/linear_model/_sag.py:350: ConvergenceWarning: The max_iter was reached which means the coef_ did not converge\n",
      "  warnings.warn(\n",
      "/Users/mac/opt/anaconda3/envs/csci567_2/lib/python3.8/site-packages/sklearn/linear_model/_sag.py:350: ConvergenceWarning: The max_iter was reached which means the coef_ did not converge\n",
      "  warnings.warn(\n",
      "/Users/mac/opt/anaconda3/envs/csci567_2/lib/python3.8/site-packages/sklearn/linear_model/_sag.py:350: ConvergenceWarning: The max_iter was reached which means the coef_ did not converge\n",
      "  warnings.warn(\n",
      "/Users/mac/opt/anaconda3/envs/csci567_2/lib/python3.8/site-packages/sklearn/linear_model/_sag.py:350: ConvergenceWarning: The max_iter was reached which means the coef_ did not converge\n",
      "  warnings.warn(\n",
      "/Users/mac/opt/anaconda3/envs/csci567_2/lib/python3.8/site-packages/sklearn/linear_model/_sag.py:350: ConvergenceWarning: The max_iter was reached which means the coef_ did not converge\n",
      "  warnings.warn(\n",
      "/Users/mac/opt/anaconda3/envs/csci567_2/lib/python3.8/site-packages/sklearn/linear_model/_sag.py:350: ConvergenceWarning: The max_iter was reached which means the coef_ did not converge\n",
      "  warnings.warn(\n",
      "/Users/mac/opt/anaconda3/envs/csci567_2/lib/python3.8/site-packages/sklearn/linear_model/_sag.py:350: ConvergenceWarning: The max_iter was reached which means the coef_ did not converge\n",
      "  warnings.warn(\n",
      "/Users/mac/opt/anaconda3/envs/csci567_2/lib/python3.8/site-packages/sklearn/linear_model/_sag.py:350: ConvergenceWarning: The max_iter was reached which means the coef_ did not converge\n",
      "  warnings.warn(\n",
      "/Users/mac/opt/anaconda3/envs/csci567_2/lib/python3.8/site-packages/sklearn/linear_model/_sag.py:350: ConvergenceWarning: The max_iter was reached which means the coef_ did not converge\n",
      "  warnings.warn(\n",
      "/Users/mac/opt/anaconda3/envs/csci567_2/lib/python3.8/site-packages/sklearn/linear_model/_sag.py:350: ConvergenceWarning: The max_iter was reached which means the coef_ did not converge\n",
      "  warnings.warn(\n",
      "/Users/mac/opt/anaconda3/envs/csci567_2/lib/python3.8/site-packages/sklearn/linear_model/_sag.py:350: ConvergenceWarning: The max_iter was reached which means the coef_ did not converge\n",
      "  warnings.warn(\n",
      "/Users/mac/opt/anaconda3/envs/csci567_2/lib/python3.8/site-packages/sklearn/linear_model/_sag.py:350: ConvergenceWarning: The max_iter was reached which means the coef_ did not converge\n",
      "  warnings.warn(\n",
      "/Users/mac/opt/anaconda3/envs/csci567_2/lib/python3.8/site-packages/sklearn/linear_model/_sag.py:350: ConvergenceWarning: The max_iter was reached which means the coef_ did not converge\n",
      "  warnings.warn(\n",
      "/Users/mac/opt/anaconda3/envs/csci567_2/lib/python3.8/site-packages/sklearn/linear_model/_sag.py:350: ConvergenceWarning: The max_iter was reached which means the coef_ did not converge\n",
      "  warnings.warn(\n",
      "/Users/mac/opt/anaconda3/envs/csci567_2/lib/python3.8/site-packages/sklearn/linear_model/_sag.py:350: ConvergenceWarning: The max_iter was reached which means the coef_ did not converge\n",
      "  warnings.warn(\n",
      "/Users/mac/opt/anaconda3/envs/csci567_2/lib/python3.8/site-packages/sklearn/linear_model/_sag.py:350: ConvergenceWarning: The max_iter was reached which means the coef_ did not converge\n",
      "  warnings.warn(\n",
      "/Users/mac/opt/anaconda3/envs/csci567_2/lib/python3.8/site-packages/sklearn/linear_model/_sag.py:350: ConvergenceWarning: The max_iter was reached which means the coef_ did not converge\n",
      "  warnings.warn(\n",
      "/Users/mac/opt/anaconda3/envs/csci567_2/lib/python3.8/site-packages/sklearn/linear_model/_sag.py:350: ConvergenceWarning: The max_iter was reached which means the coef_ did not converge\n",
      "  warnings.warn(\n",
      "/Users/mac/opt/anaconda3/envs/csci567_2/lib/python3.8/site-packages/sklearn/linear_model/_sag.py:350: ConvergenceWarning: The max_iter was reached which means the coef_ did not converge\n",
      "  warnings.warn(\n",
      "/Users/mac/opt/anaconda3/envs/csci567_2/lib/python3.8/site-packages/sklearn/linear_model/_sag.py:350: ConvergenceWarning: The max_iter was reached which means the coef_ did not converge\n",
      "  warnings.warn(\n",
      "/Users/mac/opt/anaconda3/envs/csci567_2/lib/python3.8/site-packages/sklearn/linear_model/_sag.py:350: ConvergenceWarning: The max_iter was reached which means the coef_ did not converge\n",
      "  warnings.warn(\n",
      "/Users/mac/opt/anaconda3/envs/csci567_2/lib/python3.8/site-packages/sklearn/linear_model/_sag.py:350: ConvergenceWarning: The max_iter was reached which means the coef_ did not converge\n",
      "  warnings.warn(\n",
      "/Users/mac/opt/anaconda3/envs/csci567_2/lib/python3.8/site-packages/sklearn/linear_model/_sag.py:350: ConvergenceWarning: The max_iter was reached which means the coef_ did not converge\n",
      "  warnings.warn(\n",
      "/Users/mac/opt/anaconda3/envs/csci567_2/lib/python3.8/site-packages/sklearn/linear_model/_sag.py:350: ConvergenceWarning: The max_iter was reached which means the coef_ did not converge\n",
      "  warnings.warn(\n",
      "/Users/mac/opt/anaconda3/envs/csci567_2/lib/python3.8/site-packages/sklearn/linear_model/_sag.py:350: ConvergenceWarning: The max_iter was reached which means the coef_ did not converge\n",
      "  warnings.warn(\n",
      "/Users/mac/opt/anaconda3/envs/csci567_2/lib/python3.8/site-packages/sklearn/linear_model/_sag.py:350: ConvergenceWarning: The max_iter was reached which means the coef_ did not converge\n",
      "  warnings.warn(\n",
      "/Users/mac/opt/anaconda3/envs/csci567_2/lib/python3.8/site-packages/sklearn/linear_model/_sag.py:350: ConvergenceWarning: The max_iter was reached which means the coef_ did not converge\n",
      "  warnings.warn(\n",
      "/Users/mac/opt/anaconda3/envs/csci567_2/lib/python3.8/site-packages/sklearn/linear_model/_sag.py:350: ConvergenceWarning: The max_iter was reached which means the coef_ did not converge\n",
      "  warnings.warn(\n",
      "/Users/mac/opt/anaconda3/envs/csci567_2/lib/python3.8/site-packages/sklearn/linear_model/_sag.py:350: ConvergenceWarning: The max_iter was reached which means the coef_ did not converge\n",
      "  warnings.warn(\n",
      "/Users/mac/opt/anaconda3/envs/csci567_2/lib/python3.8/site-packages/sklearn/linear_model/_sag.py:350: ConvergenceWarning: The max_iter was reached which means the coef_ did not converge\n",
      "  warnings.warn(\n",
      "/Users/mac/opt/anaconda3/envs/csci567_2/lib/python3.8/site-packages/sklearn/linear_model/_sag.py:350: ConvergenceWarning: The max_iter was reached which means the coef_ did not converge\n",
      "  warnings.warn(\n",
      "/Users/mac/opt/anaconda3/envs/csci567_2/lib/python3.8/site-packages/sklearn/linear_model/_sag.py:350: ConvergenceWarning: The max_iter was reached which means the coef_ did not converge\n",
      "  warnings.warn(\n",
      "/Users/mac/opt/anaconda3/envs/csci567_2/lib/python3.8/site-packages/sklearn/linear_model/_sag.py:350: ConvergenceWarning: The max_iter was reached which means the coef_ did not converge\n",
      "  warnings.warn(\n",
      "/Users/mac/opt/anaconda3/envs/csci567_2/lib/python3.8/site-packages/sklearn/linear_model/_sag.py:350: ConvergenceWarning: The max_iter was reached which means the coef_ did not converge\n",
      "  warnings.warn(\n",
      "/Users/mac/opt/anaconda3/envs/csci567_2/lib/python3.8/site-packages/sklearn/linear_model/_sag.py:350: ConvergenceWarning: The max_iter was reached which means the coef_ did not converge\n",
      "  warnings.warn(\n",
      "/Users/mac/opt/anaconda3/envs/csci567_2/lib/python3.8/site-packages/sklearn/linear_model/_sag.py:350: ConvergenceWarning: The max_iter was reached which means the coef_ did not converge\n",
      "  warnings.warn(\n",
      "/Users/mac/opt/anaconda3/envs/csci567_2/lib/python3.8/site-packages/sklearn/linear_model/_sag.py:350: ConvergenceWarning: The max_iter was reached which means the coef_ did not converge\n",
      "  warnings.warn(\n",
      "/Users/mac/opt/anaconda3/envs/csci567_2/lib/python3.8/site-packages/sklearn/linear_model/_sag.py:350: ConvergenceWarning: The max_iter was reached which means the coef_ did not converge\n",
      "  warnings.warn(\n",
      "/Users/mac/opt/anaconda3/envs/csci567_2/lib/python3.8/site-packages/sklearn/linear_model/_sag.py:350: ConvergenceWarning: The max_iter was reached which means the coef_ did not converge\n",
      "  warnings.warn(\n",
      "/Users/mac/opt/anaconda3/envs/csci567_2/lib/python3.8/site-packages/sklearn/linear_model/_sag.py:350: ConvergenceWarning: The max_iter was reached which means the coef_ did not converge\n",
      "  warnings.warn(\n",
      "/Users/mac/opt/anaconda3/envs/csci567_2/lib/python3.8/site-packages/sklearn/linear_model/_sag.py:350: ConvergenceWarning: The max_iter was reached which means the coef_ did not converge\n",
      "  warnings.warn(\n",
      "/Users/mac/opt/anaconda3/envs/csci567_2/lib/python3.8/site-packages/sklearn/linear_model/_sag.py:350: ConvergenceWarning: The max_iter was reached which means the coef_ did not converge\n",
      "  warnings.warn(\n",
      "/Users/mac/opt/anaconda3/envs/csci567_2/lib/python3.8/site-packages/sklearn/linear_model/_sag.py:350: ConvergenceWarning: The max_iter was reached which means the coef_ did not converge\n",
      "  warnings.warn(\n",
      "/Users/mac/opt/anaconda3/envs/csci567_2/lib/python3.8/site-packages/sklearn/linear_model/_sag.py:350: ConvergenceWarning: The max_iter was reached which means the coef_ did not converge\n",
      "  warnings.warn(\n",
      "/Users/mac/opt/anaconda3/envs/csci567_2/lib/python3.8/site-packages/sklearn/linear_model/_sag.py:350: ConvergenceWarning: The max_iter was reached which means the coef_ did not converge\n",
      "  warnings.warn(\n",
      "/Users/mac/opt/anaconda3/envs/csci567_2/lib/python3.8/site-packages/sklearn/linear_model/_sag.py:350: ConvergenceWarning: The max_iter was reached which means the coef_ did not converge\n",
      "  warnings.warn(\n",
      "/Users/mac/opt/anaconda3/envs/csci567_2/lib/python3.8/site-packages/sklearn/linear_model/_sag.py:350: ConvergenceWarning: The max_iter was reached which means the coef_ did not converge\n",
      "  warnings.warn(\n",
      "/Users/mac/opt/anaconda3/envs/csci567_2/lib/python3.8/site-packages/sklearn/linear_model/_sag.py:350: ConvergenceWarning: The max_iter was reached which means the coef_ did not converge\n",
      "  warnings.warn(\n",
      "/Users/mac/opt/anaconda3/envs/csci567_2/lib/python3.8/site-packages/sklearn/linear_model/_sag.py:350: ConvergenceWarning: The max_iter was reached which means the coef_ did not converge\n",
      "  warnings.warn(\n",
      "/Users/mac/opt/anaconda3/envs/csci567_2/lib/python3.8/site-packages/sklearn/linear_model/_sag.py:350: ConvergenceWarning: The max_iter was reached which means the coef_ did not converge\n",
      "  warnings.warn(\n",
      "/Users/mac/opt/anaconda3/envs/csci567_2/lib/python3.8/site-packages/sklearn/linear_model/_sag.py:350: ConvergenceWarning: The max_iter was reached which means the coef_ did not converge\n",
      "  warnings.warn(\n",
      "/Users/mac/opt/anaconda3/envs/csci567_2/lib/python3.8/site-packages/sklearn/model_selection/_validation.py:425: FitFailedWarning: \n",
      "50 fits failed out of a total of 200.\n",
      "The score on these train-test partitions for these parameters will be set to nan.\n",
      "If these failures are not expected, you can try to debug them by setting error_score='raise'.\n",
      "\n",
      "Below are more details about the failures:\n",
      "--------------------------------------------------------------------------------\n",
      "25 fits failed with the following error:\n",
      "Traceback (most recent call last):\n",
      "  File \"/Users/mac/opt/anaconda3/envs/csci567_2/lib/python3.8/site-packages/sklearn/model_selection/_validation.py\", line 732, in _fit_and_score\n",
      "    estimator.fit(X_train, y_train, **fit_params)\n",
      "  File \"/Users/mac/opt/anaconda3/envs/csci567_2/lib/python3.8/site-packages/sklearn/base.py\", line 1151, in wrapper\n",
      "    return fit_method(estimator, *args, **kwargs)\n",
      "  File \"/Users/mac/opt/anaconda3/envs/csci567_2/lib/python3.8/site-packages/sklearn/pipeline.py\", line 420, in fit\n",
      "    self._final_estimator.fit(Xt, y, **fit_params_last_step)\n",
      "  File \"/Users/mac/opt/anaconda3/envs/csci567_2/lib/python3.8/site-packages/sklearn/base.py\", line 1151, in wrapper\n",
      "    return fit_method(estimator, *args, **kwargs)\n",
      "  File \"/Users/mac/opt/anaconda3/envs/csci567_2/lib/python3.8/site-packages/sklearn/multiclass.py\", line 339, in fit\n",
      "    self.estimators_ = Parallel(n_jobs=self.n_jobs, verbose=self.verbose)(\n",
      "  File \"/Users/mac/opt/anaconda3/envs/csci567_2/lib/python3.8/site-packages/sklearn/utils/parallel.py\", line 65, in __call__\n",
      "    return super().__call__(iterable_with_config)\n",
      "  File \"/Users/mac/opt/anaconda3/envs/csci567_2/lib/python3.8/site-packages/joblib/parallel.py\", line 1085, in __call__\n",
      "    if self.dispatch_one_batch(iterator):\n",
      "  File \"/Users/mac/opt/anaconda3/envs/csci567_2/lib/python3.8/site-packages/joblib/parallel.py\", line 901, in dispatch_one_batch\n",
      "    self._dispatch(tasks)\n",
      "  File \"/Users/mac/opt/anaconda3/envs/csci567_2/lib/python3.8/site-packages/joblib/parallel.py\", line 819, in _dispatch\n",
      "    job = self._backend.apply_async(batch, callback=cb)\n",
      "  File \"/Users/mac/opt/anaconda3/envs/csci567_2/lib/python3.8/site-packages/joblib/_parallel_backends.py\", line 208, in apply_async\n",
      "    result = ImmediateResult(func)\n",
      "  File \"/Users/mac/opt/anaconda3/envs/csci567_2/lib/python3.8/site-packages/joblib/_parallel_backends.py\", line 597, in __init__\n",
      "    self.results = batch()\n",
      "  File \"/Users/mac/opt/anaconda3/envs/csci567_2/lib/python3.8/site-packages/joblib/parallel.py\", line 288, in __call__\n",
      "    return [func(*args, **kwargs)\n",
      "  File \"/Users/mac/opt/anaconda3/envs/csci567_2/lib/python3.8/site-packages/joblib/parallel.py\", line 288, in <listcomp>\n",
      "    return [func(*args, **kwargs)\n",
      "  File \"/Users/mac/opt/anaconda3/envs/csci567_2/lib/python3.8/site-packages/sklearn/utils/parallel.py\", line 127, in __call__\n",
      "    return self.function(*args, **kwargs)\n",
      "  File \"/Users/mac/opt/anaconda3/envs/csci567_2/lib/python3.8/site-packages/sklearn/multiclass.py\", line 90, in _fit_binary\n",
      "    estimator.fit(X, y)\n",
      "  File \"/Users/mac/opt/anaconda3/envs/csci567_2/lib/python3.8/site-packages/sklearn/base.py\", line 1151, in wrapper\n",
      "    return fit_method(estimator, *args, **kwargs)\n",
      "  File \"/Users/mac/opt/anaconda3/envs/csci567_2/lib/python3.8/site-packages/sklearn/linear_model/_logistic.py\", line 1168, in fit\n",
      "    solver = _check_solver(self.solver, self.penalty, self.dual)\n",
      "  File \"/Users/mac/opt/anaconda3/envs/csci567_2/lib/python3.8/site-packages/sklearn/linear_model/_logistic.py\", line 56, in _check_solver\n",
      "    raise ValueError(\n",
      "ValueError: Solver sag supports only 'l2' or 'none' penalties, got l1 penalty.\n",
      "\n",
      "--------------------------------------------------------------------------------\n",
      "25 fits failed with the following error:\n",
      "Traceback (most recent call last):\n",
      "  File \"/Users/mac/opt/anaconda3/envs/csci567_2/lib/python3.8/site-packages/sklearn/model_selection/_validation.py\", line 732, in _fit_and_score\n",
      "    estimator.fit(X_train, y_train, **fit_params)\n",
      "  File \"/Users/mac/opt/anaconda3/envs/csci567_2/lib/python3.8/site-packages/sklearn/base.py\", line 1151, in wrapper\n",
      "    return fit_method(estimator, *args, **kwargs)\n",
      "  File \"/Users/mac/opt/anaconda3/envs/csci567_2/lib/python3.8/site-packages/sklearn/pipeline.py\", line 420, in fit\n",
      "    self._final_estimator.fit(Xt, y, **fit_params_last_step)\n",
      "  File \"/Users/mac/opt/anaconda3/envs/csci567_2/lib/python3.8/site-packages/sklearn/base.py\", line 1151, in wrapper\n",
      "    return fit_method(estimator, *args, **kwargs)\n",
      "  File \"/Users/mac/opt/anaconda3/envs/csci567_2/lib/python3.8/site-packages/sklearn/multiclass.py\", line 339, in fit\n",
      "    self.estimators_ = Parallel(n_jobs=self.n_jobs, verbose=self.verbose)(\n",
      "  File \"/Users/mac/opt/anaconda3/envs/csci567_2/lib/python3.8/site-packages/sklearn/utils/parallel.py\", line 65, in __call__\n",
      "    return super().__call__(iterable_with_config)\n",
      "  File \"/Users/mac/opt/anaconda3/envs/csci567_2/lib/python3.8/site-packages/joblib/parallel.py\", line 1085, in __call__\n",
      "    if self.dispatch_one_batch(iterator):\n",
      "  File \"/Users/mac/opt/anaconda3/envs/csci567_2/lib/python3.8/site-packages/joblib/parallel.py\", line 901, in dispatch_one_batch\n",
      "    self._dispatch(tasks)\n",
      "  File \"/Users/mac/opt/anaconda3/envs/csci567_2/lib/python3.8/site-packages/joblib/parallel.py\", line 819, in _dispatch\n",
      "    job = self._backend.apply_async(batch, callback=cb)\n",
      "  File \"/Users/mac/opt/anaconda3/envs/csci567_2/lib/python3.8/site-packages/joblib/_parallel_backends.py\", line 208, in apply_async\n",
      "    result = ImmediateResult(func)\n",
      "  File \"/Users/mac/opt/anaconda3/envs/csci567_2/lib/python3.8/site-packages/joblib/_parallel_backends.py\", line 597, in __init__\n",
      "    self.results = batch()\n",
      "  File \"/Users/mac/opt/anaconda3/envs/csci567_2/lib/python3.8/site-packages/joblib/parallel.py\", line 288, in __call__\n",
      "    return [func(*args, **kwargs)\n",
      "  File \"/Users/mac/opt/anaconda3/envs/csci567_2/lib/python3.8/site-packages/joblib/parallel.py\", line 288, in <listcomp>\n",
      "    return [func(*args, **kwargs)\n",
      "  File \"/Users/mac/opt/anaconda3/envs/csci567_2/lib/python3.8/site-packages/sklearn/utils/parallel.py\", line 127, in __call__\n",
      "    return self.function(*args, **kwargs)\n",
      "  File \"/Users/mac/opt/anaconda3/envs/csci567_2/lib/python3.8/site-packages/sklearn/multiclass.py\", line 90, in _fit_binary\n",
      "    estimator.fit(X, y)\n",
      "  File \"/Users/mac/opt/anaconda3/envs/csci567_2/lib/python3.8/site-packages/sklearn/base.py\", line 1151, in wrapper\n",
      "    return fit_method(estimator, *args, **kwargs)\n",
      "  File \"/Users/mac/opt/anaconda3/envs/csci567_2/lib/python3.8/site-packages/sklearn/linear_model/_logistic.py\", line 1168, in fit\n",
      "    solver = _check_solver(self.solver, self.penalty, self.dual)\n",
      "  File \"/Users/mac/opt/anaconda3/envs/csci567_2/lib/python3.8/site-packages/sklearn/linear_model/_logistic.py\", line 56, in _check_solver\n",
      "    raise ValueError(\n",
      "ValueError: Solver lbfgs supports only 'l2' or 'none' penalties, got l1 penalty.\n",
      "\n",
      "  warnings.warn(some_fits_failed_message, FitFailedWarning)\n",
      "/Users/mac/opt/anaconda3/envs/csci567_2/lib/python3.8/site-packages/sklearn/model_selection/_search.py:976: UserWarning: One or more of the test scores are non-finite: [0.05660377        nan 0.54339623        nan 0.76226415 0.74339623\n",
      " 0.74339623 0.74339623 0.75471698        nan 0.74716981        nan\n",
      " 0.75849057 0.7509434  0.7509434  0.7509434  0.7509434         nan\n",
      " 0.74716981        nan 0.7509434  0.74716981 0.74716981 0.74716981\n",
      " 0.73207547        nan 0.73962264        nan 0.73584906 0.73584906\n",
      " 0.73962264 0.73207547 0.72830189        nan 0.73207547        nan\n",
      " 0.72830189 0.72830189 0.73207547 0.72830189]\n",
      "  warnings.warn(\n"
     ]
    },
    {
     "data": {
      "text/plain": "({'onevsrestclassifier__estimator__C': 0.01,\n  'onevsrestclassifier__estimator__penalty': 'l2',\n  'onevsrestclassifier__estimator__solver': 'liblinear'},\n 0.7622641509433963)"
     },
     "execution_count": 36,
     "metadata": {},
     "output_type": "execute_result"
    }
   ],
   "source": [
    "# Define the parameter grid to search\n",
    "param_grid = {\n",
    "    'onevsrestclassifier__estimator__C': [0.01, 0.1, 1, 10, 100],\n",
    "    'onevsrestclassifier__estimator__penalty': ['l1', 'l2'],\n",
    "    'onevsrestclassifier__estimator__solver': ['liblinear', 'sag', 'saga', 'lbfgs']\n",
    "}\n",
    "\n",
    "# Define the model for grid search\n",
    "model_gs = make_pipeline(StandardScaler(), OneVsRestClassifier(LogisticRegression(random_state=42)))\n",
    "\n",
    "# Setup the grid search with cross-validation\n",
    "grid_search = GridSearchCV(model_gs, param_grid, cv=5, scoring='accuracy', verbose=1)\n",
    "\n",
    "# Fit grid search on the train+validation set\n",
    "grid_search.fit(X_train_val, y_train_val)\n",
    "\n",
    "# Get the best parameters and the best score\n",
    "best_params = grid_search.best_params_\n",
    "best_score = grid_search.best_score_\n",
    "\n",
    "best_params, best_score"
   ],
   "metadata": {
    "collapsed": false,
    "ExecuteTime": {
     "end_time": "2024-05-05T05:42:58.127272Z",
     "start_time": "2024-05-05T05:42:56.709170Z"
    }
   },
   "id": "7c82f60436808977",
   "execution_count": 36
  },
  {
   "cell_type": "code",
   "outputs": [
    {
     "data": {
      "text/plain": "0.7872340425531915"
     },
     "execution_count": 37,
     "metadata": {},
     "output_type": "execute_result"
    }
   ],
   "source": [
    "# Re-create the model with the best parameters found from grid search\n",
    "best_model = make_pipeline(\n",
    "    StandardScaler(),\n",
    "    OneVsRestClassifier(LogisticRegression(\n",
    "        C=best_params['onevsrestclassifier__estimator__C'],\n",
    "        penalty=best_params['onevsrestclassifier__estimator__penalty'],\n",
    "        solver=best_params['onevsrestclassifier__estimator__solver'],\n",
    "        random_state=42\n",
    "    ))\n",
    ")\n",
    "\n",
    "# Fit the model with the best parameters on the entire training and validation set\n",
    "best_model.fit(X_train_val, y_train_val)\n",
    "\n",
    "# Predict on the test set\n",
    "y_test_pred = best_model.predict(X_test)\n",
    "\n",
    "# Calculate the accuracy on the test set\n",
    "accuracy_test = accuracy_score(y_test, y_test_pred)\n",
    "\n",
    "accuracy_test"
   ],
   "metadata": {
    "collapsed": false,
    "ExecuteTime": {
     "end_time": "2024-05-05T05:42:58.137768Z",
     "start_time": "2024-05-05T05:42:58.128851Z"
    }
   },
   "id": "ce944e8ec1ca639",
   "execution_count": 37
  },
  {
   "cell_type": "code",
   "outputs": [
    {
     "name": "stdout",
     "output_type": "stream",
     "text": [
      "Precision: 0.86\n",
      "Recall: 0.58\n",
      "F1-Score: 0.55\n"
     ]
    }
   ],
   "source": [
    "# Calculate precision, recall, and F1-score for the test set\n",
    "precision_test = precision_score(y_test, y_test_pred, average='macro', zero_division=1)\n",
    "recall_test = recall_score(y_test, y_test_pred, average='macro')\n",
    "f1_test = f1_score(y_test, y_test_pred, average='macro')\n",
    "\n",
    "print(\"Precision: {:.2f}\".format(precision_test))\n",
    "print(\"Recall: {:.2f}\".format(recall_test))\n",
    "print(\"F1-Score: {:.2f}\".format(f1_test))"
   ],
   "metadata": {
    "collapsed": false,
    "ExecuteTime": {
     "end_time": "2024-05-05T05:42:58.162876Z",
     "start_time": "2024-05-05T05:42:58.142414Z"
    }
   },
   "id": "56911e2cac70140f",
   "execution_count": 38
  },
  {
   "cell_type": "code",
   "outputs": [
    {
     "data": {
      "text/plain": "<Figure size 1000x700 with 2 Axes>",
      "image/png": "[encoded data removed]"
     },
     "metadata": {},
     "output_type": "display_data"
    }
   ],
   "source": [
    "# Calculate confusion matrix\n",
    "conf_mat = confusion_matrix(y_test, y_test_pred)\n",
    "\n",
    "# Plot the confusion matrix using Seaborn\n",
    "plt.figure(figsize=(10, 7))\n",
    "sns.heatmap(conf_mat, annot=True, fmt='g', cmap='Blues', xticklabels=[0, 1, 2], yticklabels=[0, 1, 2])\n",
    "plt.xlabel('Predicted labels')\n",
    "plt.ylabel('True labels')\n",
    "plt.title('Confusion Matrix for Test set')\n",
    "plt.show()"
   ],
   "metadata": {
    "collapsed": false,
    "ExecuteTime": {
     "end_time": "2024-05-05T05:42:58.266933Z",
     "start_time": "2024-05-05T05:42:58.147956Z"
    }
   },
   "id": "5e234809c78ea8af",
   "execution_count": 39
  },
  {
   "cell_type": "code",
   "outputs": [
    {
     "data": {
      "text/plain": "<Figure size 1000x700 with 2 Axes>",
      "image/png": "[encoded data removed]"
     },
     "metadata": {},
     "output_type": "display_data"
    }
   ],
   "source": [
    "# Predict on the train+validation set to see the performance on the training data\n",
    "y_train_val_pred = best_model.predict(X_train_val)\n",
    "\n",
    "# Calculate confusion matrix for the train+validation set\n",
    "conf_mat_train_val = confusion_matrix(y_train_val, y_train_val_pred)\n",
    "\n",
    "# Plot the confusion matrix for the train+validation set\n",
    "plt.figure(figsize=(10, 7))\n",
    "sns.heatmap(conf_mat_train_val, annot=True, fmt='g', cmap='Blues', xticklabels=[0, 1, 2], yticklabels=[0, 1, 2])\n",
    "plt.xlabel('Predicted labels')\n",
    "plt.ylabel('True labels')\n",
    "plt.title('Confusion Matrix for Training and Val Set')\n",
    "plt.show()"
   ],
   "metadata": {
    "collapsed": false,
    "ExecuteTime": {
     "end_time": "2024-05-05T05:42:58.389444Z",
     "start_time": "2024-05-05T05:42:58.268536Z"
    }
   },
   "id": "f4635b70031a19da",
   "execution_count": 40
  },
  {
   "cell_type": "code",
   "outputs": [
    {
     "data": {
      "text/plain": "0.8199275763834937"
     },
     "execution_count": 41,
     "metadata": {},
     "output_type": "execute_result"
    }
   ],
   "source": [
    "# Get the probability predictions for the test set\n",
    "y_test_proba = best_model.predict_proba(X_test)\n",
    "# Clip the probability predictions to avoid log(0) issues\n",
    "y_test_proba_clipped = np.clip(y_test_proba, 1e-15, 1 - 1e-15)\n",
    "\n",
    "# Calculate the log loss on the test set again after clipping\n",
    "logloss_test = log_loss(y_test, y_test_proba_clipped)\n",
    "\n",
    "logloss_test"
   ],
   "metadata": {
    "collapsed": false,
    "ExecuteTime": {
     "end_time": "2024-05-05T05:42:58.393613Z",
     "start_time": "2024-05-05T05:42:58.388945Z"
    }
   },
   "id": "2807d337136c1dbd",
   "execution_count": 41
  },
  {
   "cell_type": "code",
   "outputs": [
    {
     "name": "stdout",
     "output_type": "stream",
     "text": [
      "Fitting 5 folds for each of 200 candidates, totalling 1000 fits\n"
     ]
    },
    {
     "name": "stderr",
     "output_type": "stream",
     "text": [
      "/Users/mac/opt/anaconda3/envs/csci567_2/lib/python3.8/site-packages/sklearn/model_selection/_validation.py:425: FitFailedWarning: \n",
      "250 fits failed out of a total of 1000.\n",
      "The score on these train-test partitions for these parameters will be set to nan.\n",
      "If these failures are not expected, you can try to debug them by setting error_score='raise'.\n",
      "\n",
      "Below are more details about the failures:\n",
      "--------------------------------------------------------------------------------\n",
      "125 fits failed with the following error:\n",
      "Traceback (most recent call last):\n",
      "  File \"/Users/mac/opt/anaconda3/envs/csci567_2/lib/python3.8/site-packages/sklearn/model_selection/_validation.py\", line 732, in _fit_and_score\n",
      "    estimator.fit(X_train, y_train, **fit_params)\n",
      "  File \"/Users/mac/opt/anaconda3/envs/csci567_2/lib/python3.8/site-packages/sklearn/base.py\", line 1151, in wrapper\n",
      "    return fit_method(estimator, *args, **kwargs)\n",
      "  File \"/Users/mac/opt/anaconda3/envs/csci567_2/lib/python3.8/site-packages/sklearn/pipeline.py\", line 420, in fit\n",
      "    self._final_estimator.fit(Xt, y, **fit_params_last_step)\n",
      "  File \"/Users/mac/opt/anaconda3/envs/csci567_2/lib/python3.8/site-packages/sklearn/base.py\", line 1151, in wrapper\n",
      "    return fit_method(estimator, *args, **kwargs)\n",
      "  File \"/Users/mac/opt/anaconda3/envs/csci567_2/lib/python3.8/site-packages/sklearn/multiclass.py\", line 339, in fit\n",
      "    self.estimators_ = Parallel(n_jobs=self.n_jobs, verbose=self.verbose)(\n",
      "  File \"/Users/mac/opt/anaconda3/envs/csci567_2/lib/python3.8/site-packages/sklearn/utils/parallel.py\", line 65, in __call__\n",
      "    return super().__call__(iterable_with_config)\n",
      "  File \"/Users/mac/opt/anaconda3/envs/csci567_2/lib/python3.8/site-packages/joblib/parallel.py\", line 1085, in __call__\n",
      "    if self.dispatch_one_batch(iterator):\n",
      "  File \"/Users/mac/opt/anaconda3/envs/csci567_2/lib/python3.8/site-packages/joblib/parallel.py\", line 901, in dispatch_one_batch\n",
      "    self._dispatch(tasks)\n",
      "  File \"/Users/mac/opt/anaconda3/envs/csci567_2/lib/python3.8/site-packages/joblib/parallel.py\", line 819, in _dispatch\n",
      "    job = self._backend.apply_async(batch, callback=cb)\n",
      "  File \"/Users/mac/opt/anaconda3/envs/csci567_2/lib/python3.8/site-packages/joblib/_parallel_backends.py\", line 208, in apply_async\n",
      "    result = ImmediateResult(func)\n",
      "  File \"/Users/mac/opt/anaconda3/envs/csci567_2/lib/python3.8/site-packages/joblib/_parallel_backends.py\", line 597, in __init__\n",
      "    self.results = batch()\n",
      "  File \"/Users/mac/opt/anaconda3/envs/csci567_2/lib/python3.8/site-packages/joblib/parallel.py\", line 288, in __call__\n",
      "    return [func(*args, **kwargs)\n",
      "  File \"/Users/mac/opt/anaconda3/envs/csci567_2/lib/python3.8/site-packages/joblib/parallel.py\", line 288, in <listcomp>\n",
      "    return [func(*args, **kwargs)\n",
      "  File \"/Users/mac/opt/anaconda3/envs/csci567_2/lib/python3.8/site-packages/sklearn/utils/parallel.py\", line 127, in __call__\n",
      "    return self.function(*args, **kwargs)\n",
      "  File \"/Users/mac/opt/anaconda3/envs/csci567_2/lib/python3.8/site-packages/sklearn/multiclass.py\", line 90, in _fit_binary\n",
      "    estimator.fit(X, y)\n",
      "  File \"/Users/mac/opt/anaconda3/envs/csci567_2/lib/python3.8/site-packages/sklearn/base.py\", line 1151, in wrapper\n",
      "    return fit_method(estimator, *args, **kwargs)\n",
      "  File \"/Users/mac/opt/anaconda3/envs/csci567_2/lib/python3.8/site-packages/sklearn/linear_model/_logistic.py\", line 1168, in fit\n",
      "    solver = _check_solver(self.solver, self.penalty, self.dual)\n",
      "  File \"/Users/mac/opt/anaconda3/envs/csci567_2/lib/python3.8/site-packages/sklearn/linear_model/_logistic.py\", line 56, in _check_solver\n",
      "    raise ValueError(\n",
      "ValueError: Solver sag supports only 'l2' or 'none' penalties, got l1 penalty.\n",
      "\n",
      "--------------------------------------------------------------------------------\n",
      "125 fits failed with the following error:\n",
      "Traceback (most recent call last):\n",
      "  File \"/Users/mac/opt/anaconda3/envs/csci567_2/lib/python3.8/site-packages/sklearn/model_selection/_validation.py\", line 732, in _fit_and_score\n",
      "    estimator.fit(X_train, y_train, **fit_params)\n",
      "  File \"/Users/mac/opt/anaconda3/envs/csci567_2/lib/python3.8/site-packages/sklearn/base.py\", line 1151, in wrapper\n",
      "    return fit_method(estimator, *args, **kwargs)\n",
      "  File \"/Users/mac/opt/anaconda3/envs/csci567_2/lib/python3.8/site-packages/sklearn/pipeline.py\", line 420, in fit\n",
      "    self._final_estimator.fit(Xt, y, **fit_params_last_step)\n",
      "  File \"/Users/mac/opt/anaconda3/envs/csci567_2/lib/python3.8/site-packages/sklearn/base.py\", line 1151, in wrapper\n",
      "    return fit_method(estimator, *args, **kwargs)\n",
      "  File \"/Users/mac/opt/anaconda3/envs/csci567_2/lib/python3.8/site-packages/sklearn/multiclass.py\", line 339, in fit\n",
      "    self.estimators_ = Parallel(n_jobs=self.n_jobs, verbose=self.verbose)(\n",
      "  File \"/Users/mac/opt/anaconda3/envs/csci567_2/lib/python3.8/site-packages/sklearn/utils/parallel.py\", line 65, in __call__\n",
      "    return super().__call__(iterable_with_config)\n",
      "  File \"/Users/mac/opt/anaconda3/envs/csci567_2/lib/python3.8/site-packages/joblib/parallel.py\", line 1085, in __call__\n",
      "    if self.dispatch_one_batch(iterator):\n",
      "  File \"/Users/mac/opt/anaconda3/envs/csci567_2/lib/python3.8/site-packages/joblib/parallel.py\", line 901, in dispatch_one_batch\n",
      "    self._dispatch(tasks)\n",
      "  File \"/Users/mac/opt/anaconda3/envs/csci567_2/lib/python3.8/site-packages/joblib/parallel.py\", line 819, in _dispatch\n",
      "    job = self._backend.apply_async(batch, callback=cb)\n",
      "  File \"/Users/mac/opt/anaconda3/envs/csci567_2/lib/python3.8/site-packages/joblib/_parallel_backends.py\", line 208, in apply_async\n",
      "    result = ImmediateResult(func)\n",
      "  File \"/Users/mac/opt/anaconda3/envs/csci567_2/lib/python3.8/site-packages/joblib/_parallel_backends.py\", line 597, in __init__\n",
      "    self.results = batch()\n",
      "  File \"/Users/mac/opt/anaconda3/envs/csci567_2/lib/python3.8/site-packages/joblib/parallel.py\", line 288, in __call__\n",
      "    return [func(*args, **kwargs)\n",
      "  File \"/Users/mac/opt/anaconda3/envs/csci567_2/lib/python3.8/site-packages/joblib/parallel.py\", line 288, in <listcomp>\n",
      "    return [func(*args, **kwargs)\n",
      "  File \"/Users/mac/opt/anaconda3/envs/csci567_2/lib/python3.8/site-packages/sklearn/utils/parallel.py\", line 127, in __call__\n",
      "    return self.function(*args, **kwargs)\n",
      "  File \"/Users/mac/opt/anaconda3/envs/csci567_2/lib/python3.8/site-packages/sklearn/multiclass.py\", line 90, in _fit_binary\n",
      "    estimator.fit(X, y)\n",
      "  File \"/Users/mac/opt/anaconda3/envs/csci567_2/lib/python3.8/site-packages/sklearn/base.py\", line 1151, in wrapper\n",
      "    return fit_method(estimator, *args, **kwargs)\n",
      "  File \"/Users/mac/opt/anaconda3/envs/csci567_2/lib/python3.8/site-packages/sklearn/linear_model/_logistic.py\", line 1168, in fit\n",
      "    solver = _check_solver(self.solver, self.penalty, self.dual)\n",
      "  File \"/Users/mac/opt/anaconda3/envs/csci567_2/lib/python3.8/site-packages/sklearn/linear_model/_logistic.py\", line 56, in _check_solver\n",
      "    raise ValueError(\n",
      "ValueError: Solver lbfgs supports only 'l2' or 'none' penalties, got l1 penalty.\n",
      "\n",
      "  warnings.warn(some_fits_failed_message, FitFailedWarning)\n",
      "/Users/mac/opt/anaconda3/envs/csci567_2/lib/python3.8/site-packages/sklearn/model_selection/_search.py:976: UserWarning: One or more of the test scores are non-finite: [0.75471698 0.75471698 0.75471698 0.75471698 0.75471698        nan\n",
      "        nan        nan        nan        nan 0.62264151 0.62264151\n",
      " 0.62264151 0.62264151 0.62264151        nan        nan        nan\n",
      "        nan        nan 0.73584906 0.73584906 0.76226415 0.76226415\n",
      " 0.75471698 0.72830189 0.73207547 0.73962264 0.7509434  0.74339623\n",
      " 0.72830189 0.73207547 0.73962264 0.7509434  0.74339623 0.72830189\n",
      " 0.73207547 0.73962264 0.7509434  0.74339623 0.75471698 0.75471698\n",
      " 0.75471698 0.75471698 0.75471698        nan        nan        nan\n",
      "        nan        nan 0.73207547 0.72830189 0.7509434  0.7509434\n",
      " 0.7509434         nan        nan        nan        nan        nan\n",
      " 0.73207547 0.73584906 0.77358491 0.76603774 0.7509434  0.73207547\n",
      " 0.73584906 0.76981132 0.76226415 0.7509434  0.73207547 0.73584906\n",
      " 0.76981132 0.76226415 0.7509434  0.73207547 0.73584906 0.76981132\n",
      " 0.76226415 0.7509434  0.73962264 0.73962264 0.76981132 0.76603774\n",
      " 0.75471698        nan        nan        nan        nan        nan\n",
      " 0.73207547 0.73962264 0.77358491 0.76603774 0.7509434         nan\n",
      "        nan        nan        nan        nan 0.73584906 0.74339623\n",
      " 0.77735849 0.76981132 0.75471698 0.73207547 0.73962264 0.77735849\n",
      " 0.76981132 0.75471698 0.73207547 0.73962264 0.77735849 0.76981132\n",
      " 0.75471698 0.73207547 0.73962264 0.77735849 0.76981132 0.75471698\n",
      " 0.73584906 0.74339623 0.77735849 0.76981132 0.75471698        nan\n",
      "        nan        nan        nan        nan 0.73584906 0.73962264\n",
      " 0.77735849 0.76981132 0.75471698        nan        nan        nan\n",
      "        nan        nan 0.73584906 0.74339623 0.77735849 0.76981132\n",
      " 0.75471698 0.73584906 0.73962264 0.77735849 0.76981132 0.75471698\n",
      " 0.73584906 0.73962264 0.77735849 0.76981132 0.75471698 0.73584906\n",
      " 0.73962264 0.77735849 0.76981132 0.75471698 0.73584906 0.74339623\n",
      " 0.77735849 0.76981132 0.75471698        nan        nan        nan\n",
      "        nan        nan 0.73584906 0.74339623 0.77735849 0.76981132\n",
      " 0.75471698        nan        nan        nan        nan        nan\n",
      " 0.73584906 0.74339623 0.77735849 0.76981132 0.75471698 0.73584906\n",
      " 0.74339623 0.77735849 0.76981132 0.75471698 0.73584906 0.74339623\n",
      " 0.77735849 0.76981132 0.75471698 0.73584906 0.74339623 0.77735849\n",
      " 0.76981132 0.75471698]\n",
      "  warnings.warn(\n"
     ]
    },
    {
     "data": {
      "text/plain": "({'logistic_regression__estimator__C': 1,\n  'logistic_regression__estimator__penalty': 'l2',\n  'logistic_regression__estimator__solver': 'liblinear',\n  'pca__n_components': 3},\n 0.7773584905660378)"
     },
     "execution_count": 42,
     "metadata": {},
     "output_type": "execute_result"
    }
   ],
   "source": [
    "# Define a new pipeline with PCA and logistic regression for grid search\n",
    "pca_lr_pipeline = Pipeline([\n",
    "    ('scaler', StandardScaler()),\n",
    "    ('pca', PCA()),\n",
    "    ('logistic_regression', OneVsRestClassifier(LogisticRegression(solver='liblinear', random_state=42)))\n",
    "])\n",
    "\n",
    "# Define a new parameter grid, considering PCA components and logistic regression parameters\n",
    "param_grid_pca_lr = {\n",
    "    'pca__n_components': [1, 2, 3, 4, 5],\n",
    "    'logistic_regression__estimator__C': [0.01, 0.1, 1, 10, 100],\n",
    "    'logistic_regression__estimator__penalty': ['l1', 'l2'],\n",
    "    'logistic_regression__estimator__solver': ['liblinear', 'sag', 'saga', 'lbfgs']\n",
    "}\n",
    "\n",
    "# Setup the grid search with cross-validation\n",
    "grid_search_pca_lr = GridSearchCV(pca_lr_pipeline, param_grid_pca_lr, cv=5, scoring='accuracy', verbose=1)\n",
    "\n",
    "# Fit grid search on the train+validation set\n",
    "grid_search_pca_lr.fit(X_train_val, y_train_val)\n",
    "\n",
    "# Get the best parameters and the best score from the grid search\n",
    "best_params_pca_lr = grid_search_pca_lr.best_params_\n",
    "best_score_pca_lr = grid_search_pca_lr.best_score_\n",
    "\n",
    "best_params_pca_lr, best_score_pca_lr"
   ],
   "metadata": {
    "collapsed": false,
    "ExecuteTime": {
     "end_time": "2024-05-05T05:43:04.103571Z",
     "start_time": "2024-05-05T05:42:58.399231Z"
    }
   },
   "id": "8ad4a410a55948f6",
   "execution_count": 42
  },
  {
   "cell_type": "code",
   "outputs": [
    {
     "data": {
      "text/plain": "0.7872340425531915"
     },
     "execution_count": 43,
     "metadata": {},
     "output_type": "execute_result"
    }
   ],
   "source": [
    "# Re-create the model with the best parameters found from the updated grid search\n",
    "best_pca_lr_model = Pipeline([\n",
    "    ('scaler', StandardScaler()),\n",
    "    ('pca', PCA(n_components=best_params_pca_lr['pca__n_components'])),\n",
    "    ('logistic_regression', OneVsRestClassifier(LogisticRegression(\n",
    "        C=best_params_pca_lr['logistic_regression__estimator__C'],\n",
    "        penalty=best_params_pca_lr['logistic_regression__estimator__penalty'],\n",
    "        solver=best_params_pca_lr['logistic_regression__estimator__solver'],\n",
    "        random_state=42\n",
    "    )))\n",
    "])\n",
    "\n",
    "# Fit the model with the best parameters on the entire training and validation set\n",
    "best_pca_lr_model.fit(X_train_val, y_train_val)\n",
    "\n",
    "# Predict on the test set\n",
    "y_test_pred_best_pca_lr = best_pca_lr_model.predict(X_test)\n",
    "\n",
    "# Calculate the accuracy on the test set\n",
    "accuracy_test_best_pca_lr = accuracy_score(y_test, y_test_pred_best_pca_lr)\n",
    "\n",
    "accuracy_test_best_pca_lr"
   ],
   "metadata": {
    "collapsed": false,
    "ExecuteTime": {
     "end_time": "2024-05-05T05:43:04.116860Z",
     "start_time": "2024-05-05T05:43:04.107200Z"
    }
   },
   "id": "1d5b58036c24ab5b",
   "execution_count": 43
  },
  {
   "cell_type": "code",
   "outputs": [
    {
     "name": "stdout",
     "output_type": "stream",
     "text": [
      "Precision: 0.86\n",
      "Recall: 0.58\n",
      "F1-Score: 0.55\n"
     ]
    }
   ],
   "source": [
    "# Calculate precision, recall, and F1-score for the test set\n",
    "precision_test = precision_score(y_test, y_test_pred, average='macro', zero_division=1)\n",
    "recall_test = recall_score(y_test, y_test_pred, average='macro')\n",
    "f1_test = f1_score(y_test, y_test_pred, average='macro')\n",
    "\n",
    "print(\"Precision: {:.2f}\".format(precision_test))\n",
    "print(\"Recall: {:.2f}\".format(recall_test))\n",
    "print(\"F1-Score: {:.2f}\".format(f1_test))"
   ],
   "metadata": {
    "collapsed": false,
    "ExecuteTime": {
     "end_time": "2024-05-05T05:43:04.123250Z",
     "start_time": "2024-05-05T05:43:04.116633Z"
    }
   },
   "id": "da5632de90c3cd5e",
   "execution_count": 44
  },
  {
   "cell_type": "code",
   "outputs": [
    {
     "data": {
      "text/plain": "<Figure size 1000x700 with 2 Axes>",
      "image/png": "[encoded data removed]"
     },
     "metadata": {},
     "output_type": "display_data"
    }
   ],
   "source": [
    "# Calculate confusion matrix\n",
    "conf_mat = confusion_matrix(y_test, y_test_pred_best_pca_lr)\n",
    "\n",
    "# Plot the confusion matrix using Seaborn\n",
    "plt.figure(figsize=(10, 7))\n",
    "sns.heatmap(conf_mat, annot=True, fmt='g', cmap='Blues', xticklabels=[0, 1, 2], yticklabels=[0, 1, 2])\n",
    "plt.xlabel('Predicted labels')\n",
    "plt.ylabel('True labels')\n",
    "plt.title('Confusion Matrix for Test set')\n",
    "plt.show()"
   ],
   "metadata": {
    "collapsed": false,
    "ExecuteTime": {
     "end_time": "2024-05-05T05:43:04.243143Z",
     "start_time": "2024-05-05T05:43:04.125111Z"
    }
   },
   "id": "5ab36ae749b77319",
   "execution_count": 45
  },
  {
   "cell_type": "code",
   "outputs": [
    {
     "data": {
      "text/plain": "<Figure size 1000x700 with 2 Axes>",
      "image/png": "[encoded data removed]"
     },
     "metadata": {},
     "output_type": "display_data"
    }
   ],
   "source": [
    "# Predict on the train+validation set to see the performance on the training data\n",
    "y_train_val_pred = best_pca_lr_model.predict(X_train_val)\n",
    "\n",
    "# Calculate confusion matrix for the train+validation set\n",
    "conf_mat_train_val = confusion_matrix(y_train_val, y_train_val_pred)\n",
    "\n",
    "# Plot the confusion matrix for the train+validation set\n",
    "plt.figure(figsize=(10, 7))\n",
    "sns.heatmap(conf_mat_train_val, annot=True, fmt='g', cmap='Blues', xticklabels=[0, 1, 2], yticklabels=[0, 1, 2])\n",
    "plt.xlabel('Predicted labels')\n",
    "plt.ylabel('True labels')\n",
    "plt.title('Confusion Matrix for Training and Val Set')\n",
    "plt.show()"
   ],
   "metadata": {
    "collapsed": false,
    "ExecuteTime": {
     "end_time": "2024-05-05T05:43:04.358231Z",
     "start_time": "2024-05-05T05:43:04.245654Z"
    }
   },
   "id": "eaaeb00fef57d21c",
   "execution_count": 46
  },
  {
   "cell_type": "code",
   "outputs": [
    {
     "data": {
      "text/plain": "0.7041443491510021"
     },
     "execution_count": 47,
     "metadata": {},
     "output_type": "execute_result"
    }
   ],
   "source": [
    "# Get the probability predictions for the test set\n",
    "y_test_proba = best_pca_lr_model.predict_proba(X_test)\n",
    "# Clip the probability predictions to avoid log(0) issues\n",
    "y_test_proba_clipped = np.clip(y_test_proba, 1e-15, 1 - 1e-15)\n",
    "\n",
    "# Calculate the log loss on the test set again after clipping\n",
    "logloss_test = log_loss(y_test, y_test_proba_clipped)\n",
    "\n",
    "logloss_test"
   ],
   "metadata": {
    "collapsed": false,
    "ExecuteTime": {
     "end_time": "2024-05-05T05:43:04.364820Z",
     "start_time": "2024-05-05T05:43:04.362106Z"
    }
   },
   "id": "128490e0085bfe41",
   "execution_count": 47
  }
 ],
 "metadata": {
  "kernelspec": {
   "display_name": "Python 3",
   "language": "python",
   "name": "python3"
  },
  "language_info": {
   "codemirror_mode": {
    "name": "ipython",
    "version": 2
   },
   "file_extension": ".py",
   "mimetype": "text/x-python",
   "name": "python",
   "nbconvert_exporter": "python",
   "pygments_lexer": "ipython2",
   "version": "2.7.6"
  }
 },
 "nbformat": 4,
 "nbformat_minor": 5
}
