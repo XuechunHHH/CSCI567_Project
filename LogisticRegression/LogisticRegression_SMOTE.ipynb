{
 "cells": [
  {
   "cell_type": "code",
   "execution_count": 1,
   "id": "initial_id",
   "metadata": {
    "collapsed": true,
    "ExecuteTime": {
     "end_time": "2024-05-05T05:44:06.495044Z",
     "start_time": "2024-05-05T05:44:06.315787Z"
    }
   },
   "outputs": [],
   "source": [
    "import pandas as pd\n",
    "import numpy as np\n",
    "from sklearn.model_selection import train_test_split\n",
    "from sklearn.linear_model import LogisticRegression\n",
    "from sklearn.preprocessing import StandardScaler\n",
    "from sklearn.pipeline import make_pipeline\n",
    "from sklearn.multiclass import OneVsRestClassifier\n",
    "from sklearn.metrics import accuracy_score, precision_score, recall_score, f1_score\n",
    "from sklearn.model_selection import GridSearchCV\n",
    "from sklearn.metrics import confusion_matrix\n",
    "import matplotlib.pyplot as plt\n",
    "import seaborn as sns\n",
    "from sklearn.decomposition import PCA\n",
    "from sklearn.pipeline import Pipeline\n",
    "from sklearn.metrics import log_loss"
   ]
  },
  {
   "cell_type": "code",
   "outputs": [
    {
     "data": {
      "text/plain": "    ID    N_Days       Age  Bilirubin  Cholesterol   Albumin    Copper  \\\n0   99  1.617184 -0.146800  -0.321927     0.409636 -0.405516  0.590972   \n1  155  0.588185 -0.611734  -0.587234    -0.676818 -0.405516 -0.477086   \n2  116  1.185611  1.046118  -0.056619     0.400582  0.262393 -0.277559   \n3  271 -0.389987  0.042906  -0.498798    -0.219602 -0.047708 -0.042821   \n4  184 -0.920536 -1.174891   1.712099     1.378390  0.071562  3.055723   \n\n   Alk_Phos      SGOT  Tryglicerides  Platelets  Prothrombin     Stage  Drug  \\\n0 -0.238964 -0.248308      -0.108401  -0.947607    -0.524219 -1.177506     1   \n1 -0.169707  0.545741      -0.723014   0.518002     0.473076  1.104369     1   \n2 -0.184681 -0.275689       4.161549   1.857083    -0.823408 -0.036569     0   \n3 -0.480897 -0.204145       0.845868   0.286035    -1.022867 -0.036569     1   \n4  0.200914  0.792171       0.247429   2.205033    -0.923137 -0.036569     1   \n\n   Sex  Ascites  Hepatomegaly  Spiders  Edema  Status  \n0    1        1             1        1      1       1  \n1    0        1             0        0      2       1  \n2    0        1             1        0      2       1  \n3    0        1             0        1      1       1  \n4    0        1             0        1      1       0  ",
      "text/html": "<div>\n<style scoped>\n    .dataframe tbody tr th:only-of-type {\n        vertical-align: middle;\n    }\n\n    .dataframe tbody tr th {\n        vertical-align: top;\n    }\n\n    .dataframe thead th {\n        text-align: right;\n    }\n</style>\n<table border=\"1\" class=\"dataframe\">\n  <thead>\n    <tr style=\"text-align: right;\">\n      <th></th>\n      <th>ID</th>\n      <th>N_Days</th>\n      <th>Age</th>\n      <th>Bilirubin</th>\n      <th>Cholesterol</th>\n      <th>Albumin</th>\n      <th>Copper</th>\n      <th>Alk_Phos</th>\n      <th>SGOT</th>\n      <th>Tryglicerides</th>\n      <th>Platelets</th>\n      <th>Prothrombin</th>\n      <th>Stage</th>\n      <th>Drug</th>\n      <th>Sex</th>\n      <th>Ascites</th>\n      <th>Hepatomegaly</th>\n      <th>Spiders</th>\n      <th>Edema</th>\n      <th>Status</th>\n    </tr>\n  </thead>\n  <tbody>\n    <tr>\n      <th>0</th>\n      <td>99</td>\n      <td>1.617184</td>\n      <td>-0.146800</td>\n      <td>-0.321927</td>\n      <td>0.409636</td>\n      <td>-0.405516</td>\n      <td>0.590972</td>\n      <td>-0.238964</td>\n      <td>-0.248308</td>\n      <td>-0.108401</td>\n      <td>-0.947607</td>\n      <td>-0.524219</td>\n      <td>-1.177506</td>\n      <td>1</td>\n      <td>1</td>\n      <td>1</td>\n      <td>1</td>\n      <td>1</td>\n      <td>1</td>\n      <td>1</td>\n    </tr>\n    <tr>\n      <th>1</th>\n      <td>155</td>\n      <td>0.588185</td>\n      <td>-0.611734</td>\n      <td>-0.587234</td>\n      <td>-0.676818</td>\n      <td>-0.405516</td>\n      <td>-0.477086</td>\n      <td>-0.169707</td>\n      <td>0.545741</td>\n      <td>-0.723014</td>\n      <td>0.518002</td>\n      <td>0.473076</td>\n      <td>1.104369</td>\n      <td>1</td>\n      <td>0</td>\n      <td>1</td>\n      <td>0</td>\n      <td>0</td>\n      <td>2</td>\n      <td>1</td>\n    </tr>\n    <tr>\n      <th>2</th>\n      <td>116</td>\n      <td>1.185611</td>\n      <td>1.046118</td>\n      <td>-0.056619</td>\n      <td>0.400582</td>\n      <td>0.262393</td>\n      <td>-0.277559</td>\n      <td>-0.184681</td>\n      <td>-0.275689</td>\n      <td>4.161549</td>\n      <td>1.857083</td>\n      <td>-0.823408</td>\n      <td>-0.036569</td>\n      <td>0</td>\n      <td>0</td>\n      <td>1</td>\n      <td>1</td>\n      <td>0</td>\n      <td>2</td>\n      <td>1</td>\n    </tr>\n    <tr>\n      <th>3</th>\n      <td>271</td>\n      <td>-0.389987</td>\n      <td>0.042906</td>\n      <td>-0.498798</td>\n      <td>-0.219602</td>\n      <td>-0.047708</td>\n      <td>-0.042821</td>\n      <td>-0.480897</td>\n      <td>-0.204145</td>\n      <td>0.845868</td>\n      <td>0.286035</td>\n      <td>-1.022867</td>\n      <td>-0.036569</td>\n      <td>1</td>\n      <td>0</td>\n      <td>1</td>\n      <td>0</td>\n      <td>1</td>\n      <td>1</td>\n      <td>1</td>\n    </tr>\n    <tr>\n      <th>4</th>\n      <td>184</td>\n      <td>-0.920536</td>\n      <td>-1.174891</td>\n      <td>1.712099</td>\n      <td>1.378390</td>\n      <td>0.071562</td>\n      <td>3.055723</td>\n      <td>0.200914</td>\n      <td>0.792171</td>\n      <td>0.247429</td>\n      <td>2.205033</td>\n      <td>-0.923137</td>\n      <td>-0.036569</td>\n      <td>1</td>\n      <td>0</td>\n      <td>1</td>\n      <td>0</td>\n      <td>1</td>\n      <td>1</td>\n      <td>0</td>\n    </tr>\n  </tbody>\n</table>\n</div>"
     },
     "execution_count": 2,
     "metadata": {},
     "output_type": "execute_result"
    }
   ],
   "source": [
    "# Load the data\n",
    "train_path = 'train_smote.csv'\n",
    "test_path = 'test.csv'\n",
    "val_path = 'val.csv'\n",
    "train = pd.read_csv(train_path)\n",
    "test = pd.read_csv(test_path)\n",
    "val = pd.read_csv(val_path)\n",
    "# Display the first few rows of the dataframe to understand its structure\n",
    "train.head()"
   ],
   "metadata": {
    "collapsed": false,
    "ExecuteTime": {
     "end_time": "2024-05-05T05:44:06.513577Z",
     "start_time": "2024-05-05T05:44:06.496181Z"
    }
   },
   "id": "5b4c999d6299c094",
   "execution_count": 2
  },
  {
   "cell_type": "code",
   "outputs": [
    {
     "data": {
      "text/plain": "(357, 47, 404, 47)"
     },
     "execution_count": 3,
     "metadata": {},
     "output_type": "execute_result"
    }
   ],
   "source": [
    "# Separate the features and the target variable\n",
    "X_train = train.drop(['ID', 'Status'], axis=1)\n",
    "y_train = train['Status']\n",
    "X_test = test.drop(['ID', 'Status'], axis=1)\n",
    "y_test = test['Status']\n",
    "X_val = val.drop(['ID', 'Status'], axis=1)\n",
    "y_val = val['Status']\n",
    "X_train_val = pd.concat([X_train, X_val], ignore_index=True)\n",
    "y_train_val = pd.concat([y_train, y_val], ignore_index=True)\n",
    "\n",
    "# Check the size of each set to confirm the split ratio\n",
    "len(X_train), len(X_val), len(X_train_val), len(X_test)"
   ],
   "metadata": {
    "collapsed": false,
    "ExecuteTime": {
     "end_time": "2024-05-05T05:44:06.527318Z",
     "start_time": "2024-05-05T05:44:06.515706Z"
    }
   },
   "id": "bc378979a2772e76",
   "execution_count": 3
  },
  {
   "cell_type": "code",
   "outputs": [
    {
     "name": "stdout",
     "output_type": "stream",
     "text": [
      "Fitting 5 folds for each of 40 candidates, totalling 200 fits\n"
     ]
    },
    {
     "name": "stderr",
     "output_type": "stream",
     "text": [
      "/Users/mac/opt/anaconda3/envs/csci567_2/lib/python3.8/site-packages/sklearn/linear_model/_sag.py:350: ConvergenceWarning: The max_iter was reached which means the coef_ did not converge\n",
      "  warnings.warn(\n",
      "/Users/mac/opt/anaconda3/envs/csci567_2/lib/python3.8/site-packages/sklearn/linear_model/_sag.py:350: ConvergenceWarning: The max_iter was reached which means the coef_ did not converge\n",
      "  warnings.warn(\n",
      "/Users/mac/opt/anaconda3/envs/csci567_2/lib/python3.8/site-packages/sklearn/linear_model/_sag.py:350: ConvergenceWarning: The max_iter was reached which means the coef_ did not converge\n",
      "  warnings.warn(\n",
      "/Users/mac/opt/anaconda3/envs/csci567_2/lib/python3.8/site-packages/sklearn/linear_model/_sag.py:350: ConvergenceWarning: The max_iter was reached which means the coef_ did not converge\n",
      "  warnings.warn(\n",
      "/Users/mac/opt/anaconda3/envs/csci567_2/lib/python3.8/site-packages/sklearn/linear_model/_sag.py:350: ConvergenceWarning: The max_iter was reached which means the coef_ did not converge\n",
      "  warnings.warn(\n",
      "/Users/mac/opt/anaconda3/envs/csci567_2/lib/python3.8/site-packages/sklearn/linear_model/_sag.py:350: ConvergenceWarning: The max_iter was reached which means the coef_ did not converge\n",
      "  warnings.warn(\n",
      "/Users/mac/opt/anaconda3/envs/csci567_2/lib/python3.8/site-packages/sklearn/linear_model/_sag.py:350: ConvergenceWarning: The max_iter was reached which means the coef_ did not converge\n",
      "  warnings.warn(\n",
      "/Users/mac/opt/anaconda3/envs/csci567_2/lib/python3.8/site-packages/sklearn/linear_model/_sag.py:350: ConvergenceWarning: The max_iter was reached which means the coef_ did not converge\n",
      "  warnings.warn(\n",
      "/Users/mac/opt/anaconda3/envs/csci567_2/lib/python3.8/site-packages/sklearn/linear_model/_sag.py:350: ConvergenceWarning: The max_iter was reached which means the coef_ did not converge\n",
      "  warnings.warn(\n",
      "/Users/mac/opt/anaconda3/envs/csci567_2/lib/python3.8/site-packages/sklearn/linear_model/_sag.py:350: ConvergenceWarning: The max_iter was reached which means the coef_ did not converge\n",
      "  warnings.warn(\n",
      "/Users/mac/opt/anaconda3/envs/csci567_2/lib/python3.8/site-packages/sklearn/linear_model/_sag.py:350: ConvergenceWarning: The max_iter was reached which means the coef_ did not converge\n",
      "  warnings.warn(\n",
      "/Users/mac/opt/anaconda3/envs/csci567_2/lib/python3.8/site-packages/sklearn/linear_model/_sag.py:350: ConvergenceWarning: The max_iter was reached which means the coef_ did not converge\n",
      "  warnings.warn(\n",
      "/Users/mac/opt/anaconda3/envs/csci567_2/lib/python3.8/site-packages/sklearn/linear_model/_sag.py:350: ConvergenceWarning: The max_iter was reached which means the coef_ did not converge\n",
      "  warnings.warn(\n",
      "/Users/mac/opt/anaconda3/envs/csci567_2/lib/python3.8/site-packages/sklearn/linear_model/_sag.py:350: ConvergenceWarning: The max_iter was reached which means the coef_ did not converge\n",
      "  warnings.warn(\n",
      "/Users/mac/opt/anaconda3/envs/csci567_2/lib/python3.8/site-packages/sklearn/linear_model/_sag.py:350: ConvergenceWarning: The max_iter was reached which means the coef_ did not converge\n",
      "  warnings.warn(\n",
      "/Users/mac/opt/anaconda3/envs/csci567_2/lib/python3.8/site-packages/sklearn/linear_model/_sag.py:350: ConvergenceWarning: The max_iter was reached which means the coef_ did not converge\n",
      "  warnings.warn(\n",
      "/Users/mac/opt/anaconda3/envs/csci567_2/lib/python3.8/site-packages/sklearn/linear_model/_sag.py:350: ConvergenceWarning: The max_iter was reached which means the coef_ did not converge\n",
      "  warnings.warn(\n",
      "/Users/mac/opt/anaconda3/envs/csci567_2/lib/python3.8/site-packages/sklearn/linear_model/_sag.py:350: ConvergenceWarning: The max_iter was reached which means the coef_ did not converge\n",
      "  warnings.warn(\n",
      "/Users/mac/opt/anaconda3/envs/csci567_2/lib/python3.8/site-packages/sklearn/linear_model/_sag.py:350: ConvergenceWarning: The max_iter was reached which means the coef_ did not converge\n",
      "  warnings.warn(\n",
      "/Users/mac/opt/anaconda3/envs/csci567_2/lib/python3.8/site-packages/sklearn/linear_model/_sag.py:350: ConvergenceWarning: The max_iter was reached which means the coef_ did not converge\n",
      "  warnings.warn(\n",
      "/Users/mac/opt/anaconda3/envs/csci567_2/lib/python3.8/site-packages/sklearn/linear_model/_sag.py:350: ConvergenceWarning: The max_iter was reached which means the coef_ did not converge\n",
      "  warnings.warn(\n",
      "/Users/mac/opt/anaconda3/envs/csci567_2/lib/python3.8/site-packages/sklearn/linear_model/_sag.py:350: ConvergenceWarning: The max_iter was reached which means the coef_ did not converge\n",
      "  warnings.warn(\n",
      "/Users/mac/opt/anaconda3/envs/csci567_2/lib/python3.8/site-packages/sklearn/linear_model/_sag.py:350: ConvergenceWarning: The max_iter was reached which means the coef_ did not converge\n",
      "  warnings.warn(\n",
      "/Users/mac/opt/anaconda3/envs/csci567_2/lib/python3.8/site-packages/sklearn/linear_model/_sag.py:350: ConvergenceWarning: The max_iter was reached which means the coef_ did not converge\n",
      "  warnings.warn(\n",
      "/Users/mac/opt/anaconda3/envs/csci567_2/lib/python3.8/site-packages/sklearn/linear_model/_sag.py:350: ConvergenceWarning: The max_iter was reached which means the coef_ did not converge\n",
      "  warnings.warn(\n",
      "/Users/mac/opt/anaconda3/envs/csci567_2/lib/python3.8/site-packages/sklearn/linear_model/_sag.py:350: ConvergenceWarning: The max_iter was reached which means the coef_ did not converge\n",
      "  warnings.warn(\n",
      "/Users/mac/opt/anaconda3/envs/csci567_2/lib/python3.8/site-packages/sklearn/linear_model/_sag.py:350: ConvergenceWarning: The max_iter was reached which means the coef_ did not converge\n",
      "  warnings.warn(\n",
      "/Users/mac/opt/anaconda3/envs/csci567_2/lib/python3.8/site-packages/sklearn/linear_model/_sag.py:350: ConvergenceWarning: The max_iter was reached which means the coef_ did not converge\n",
      "  warnings.warn(\n",
      "/Users/mac/opt/anaconda3/envs/csci567_2/lib/python3.8/site-packages/sklearn/linear_model/_sag.py:350: ConvergenceWarning: The max_iter was reached which means the coef_ did not converge\n",
      "  warnings.warn(\n",
      "/Users/mac/opt/anaconda3/envs/csci567_2/lib/python3.8/site-packages/sklearn/linear_model/_sag.py:350: ConvergenceWarning: The max_iter was reached which means the coef_ did not converge\n",
      "  warnings.warn(\n",
      "/Users/mac/opt/anaconda3/envs/csci567_2/lib/python3.8/site-packages/sklearn/linear_model/_sag.py:350: ConvergenceWarning: The max_iter was reached which means the coef_ did not converge\n",
      "  warnings.warn(\n",
      "/Users/mac/opt/anaconda3/envs/csci567_2/lib/python3.8/site-packages/sklearn/linear_model/_sag.py:350: ConvergenceWarning: The max_iter was reached which means the coef_ did not converge\n",
      "  warnings.warn(\n",
      "/Users/mac/opt/anaconda3/envs/csci567_2/lib/python3.8/site-packages/sklearn/linear_model/_sag.py:350: ConvergenceWarning: The max_iter was reached which means the coef_ did not converge\n",
      "  warnings.warn(\n",
      "/Users/mac/opt/anaconda3/envs/csci567_2/lib/python3.8/site-packages/sklearn/linear_model/_sag.py:350: ConvergenceWarning: The max_iter was reached which means the coef_ did not converge\n",
      "  warnings.warn(\n",
      "/Users/mac/opt/anaconda3/envs/csci567_2/lib/python3.8/site-packages/sklearn/linear_model/_sag.py:350: ConvergenceWarning: The max_iter was reached which means the coef_ did not converge\n",
      "  warnings.warn(\n",
      "/Users/mac/opt/anaconda3/envs/csci567_2/lib/python3.8/site-packages/sklearn/linear_model/_sag.py:350: ConvergenceWarning: The max_iter was reached which means the coef_ did not converge\n",
      "  warnings.warn(\n",
      "/Users/mac/opt/anaconda3/envs/csci567_2/lib/python3.8/site-packages/sklearn/linear_model/_sag.py:350: ConvergenceWarning: The max_iter was reached which means the coef_ did not converge\n",
      "  warnings.warn(\n",
      "/Users/mac/opt/anaconda3/envs/csci567_2/lib/python3.8/site-packages/sklearn/linear_model/_sag.py:350: ConvergenceWarning: The max_iter was reached which means the coef_ did not converge\n",
      "  warnings.warn(\n",
      "/Users/mac/opt/anaconda3/envs/csci567_2/lib/python3.8/site-packages/sklearn/linear_model/_sag.py:350: ConvergenceWarning: The max_iter was reached which means the coef_ did not converge\n",
      "  warnings.warn(\n",
      "/Users/mac/opt/anaconda3/envs/csci567_2/lib/python3.8/site-packages/sklearn/linear_model/_sag.py:350: ConvergenceWarning: The max_iter was reached which means the coef_ did not converge\n",
      "  warnings.warn(\n",
      "/Users/mac/opt/anaconda3/envs/csci567_2/lib/python3.8/site-packages/sklearn/linear_model/_sag.py:350: ConvergenceWarning: The max_iter was reached which means the coef_ did not converge\n",
      "  warnings.warn(\n",
      "/Users/mac/opt/anaconda3/envs/csci567_2/lib/python3.8/site-packages/sklearn/linear_model/_sag.py:350: ConvergenceWarning: The max_iter was reached which means the coef_ did not converge\n",
      "  warnings.warn(\n",
      "/Users/mac/opt/anaconda3/envs/csci567_2/lib/python3.8/site-packages/sklearn/linear_model/_sag.py:350: ConvergenceWarning: The max_iter was reached which means the coef_ did not converge\n",
      "  warnings.warn(\n",
      "/Users/mac/opt/anaconda3/envs/csci567_2/lib/python3.8/site-packages/sklearn/linear_model/_sag.py:350: ConvergenceWarning: The max_iter was reached which means the coef_ did not converge\n",
      "  warnings.warn(\n",
      "/Users/mac/opt/anaconda3/envs/csci567_2/lib/python3.8/site-packages/sklearn/linear_model/_sag.py:350: ConvergenceWarning: The max_iter was reached which means the coef_ did not converge\n",
      "  warnings.warn(\n",
      "/Users/mac/opt/anaconda3/envs/csci567_2/lib/python3.8/site-packages/sklearn/linear_model/_sag.py:350: ConvergenceWarning: The max_iter was reached which means the coef_ did not converge\n",
      "  warnings.warn(\n",
      "/Users/mac/opt/anaconda3/envs/csci567_2/lib/python3.8/site-packages/sklearn/linear_model/_sag.py:350: ConvergenceWarning: The max_iter was reached which means the coef_ did not converge\n",
      "  warnings.warn(\n",
      "/Users/mac/opt/anaconda3/envs/csci567_2/lib/python3.8/site-packages/sklearn/linear_model/_sag.py:350: ConvergenceWarning: The max_iter was reached which means the coef_ did not converge\n",
      "  warnings.warn(\n",
      "/Users/mac/opt/anaconda3/envs/csci567_2/lib/python3.8/site-packages/sklearn/linear_model/_sag.py:350: ConvergenceWarning: The max_iter was reached which means the coef_ did not converge\n",
      "  warnings.warn(\n",
      "/Users/mac/opt/anaconda3/envs/csci567_2/lib/python3.8/site-packages/sklearn/linear_model/_sag.py:350: ConvergenceWarning: The max_iter was reached which means the coef_ did not converge\n",
      "  warnings.warn(\n",
      "/Users/mac/opt/anaconda3/envs/csci567_2/lib/python3.8/site-packages/sklearn/linear_model/_sag.py:350: ConvergenceWarning: The max_iter was reached which means the coef_ did not converge\n",
      "  warnings.warn(\n",
      "/Users/mac/opt/anaconda3/envs/csci567_2/lib/python3.8/site-packages/sklearn/linear_model/_sag.py:350: ConvergenceWarning: The max_iter was reached which means the coef_ did not converge\n",
      "  warnings.warn(\n",
      "/Users/mac/opt/anaconda3/envs/csci567_2/lib/python3.8/site-packages/sklearn/linear_model/_sag.py:350: ConvergenceWarning: The max_iter was reached which means the coef_ did not converge\n",
      "  warnings.warn(\n",
      "/Users/mac/opt/anaconda3/envs/csci567_2/lib/python3.8/site-packages/sklearn/linear_model/_sag.py:350: ConvergenceWarning: The max_iter was reached which means the coef_ did not converge\n",
      "  warnings.warn(\n",
      "/Users/mac/opt/anaconda3/envs/csci567_2/lib/python3.8/site-packages/sklearn/linear_model/_sag.py:350: ConvergenceWarning: The max_iter was reached which means the coef_ did not converge\n",
      "  warnings.warn(\n",
      "/Users/mac/opt/anaconda3/envs/csci567_2/lib/python3.8/site-packages/sklearn/linear_model/_sag.py:350: ConvergenceWarning: The max_iter was reached which means the coef_ did not converge\n",
      "  warnings.warn(\n",
      "/Users/mac/opt/anaconda3/envs/csci567_2/lib/python3.8/site-packages/sklearn/model_selection/_validation.py:425: FitFailedWarning: \n",
      "50 fits failed out of a total of 200.\n",
      "The score on these train-test partitions for these parameters will be set to nan.\n",
      "If these failures are not expected, you can try to debug them by setting error_score='raise'.\n",
      "\n",
      "Below are more details about the failures:\n",
      "--------------------------------------------------------------------------------\n",
      "25 fits failed with the following error:\n",
      "Traceback (most recent call last):\n",
      "  File \"/Users/mac/opt/anaconda3/envs/csci567_2/lib/python3.8/site-packages/sklearn/model_selection/_validation.py\", line 732, in _fit_and_score\n",
      "    estimator.fit(X_train, y_train, **fit_params)\n",
      "  File \"/Users/mac/opt/anaconda3/envs/csci567_2/lib/python3.8/site-packages/sklearn/base.py\", line 1151, in wrapper\n",
      "    return fit_method(estimator, *args, **kwargs)\n",
      "  File \"/Users/mac/opt/anaconda3/envs/csci567_2/lib/python3.8/site-packages/sklearn/pipeline.py\", line 420, in fit\n",
      "    self._final_estimator.fit(Xt, y, **fit_params_last_step)\n",
      "  File \"/Users/mac/opt/anaconda3/envs/csci567_2/lib/python3.8/site-packages/sklearn/base.py\", line 1151, in wrapper\n",
      "    return fit_method(estimator, *args, **kwargs)\n",
      "  File \"/Users/mac/opt/anaconda3/envs/csci567_2/lib/python3.8/site-packages/sklearn/multiclass.py\", line 339, in fit\n",
      "    self.estimators_ = Parallel(n_jobs=self.n_jobs, verbose=self.verbose)(\n",
      "  File \"/Users/mac/opt/anaconda3/envs/csci567_2/lib/python3.8/site-packages/sklearn/utils/parallel.py\", line 65, in __call__\n",
      "    return super().__call__(iterable_with_config)\n",
      "  File \"/Users/mac/opt/anaconda3/envs/csci567_2/lib/python3.8/site-packages/joblib/parallel.py\", line 1085, in __call__\n",
      "    if self.dispatch_one_batch(iterator):\n",
      "  File \"/Users/mac/opt/anaconda3/envs/csci567_2/lib/python3.8/site-packages/joblib/parallel.py\", line 901, in dispatch_one_batch\n",
      "    self._dispatch(tasks)\n",
      "  File \"/Users/mac/opt/anaconda3/envs/csci567_2/lib/python3.8/site-packages/joblib/parallel.py\", line 819, in _dispatch\n",
      "    job = self._backend.apply_async(batch, callback=cb)\n",
      "  File \"/Users/mac/opt/anaconda3/envs/csci567_2/lib/python3.8/site-packages/joblib/_parallel_backends.py\", line 208, in apply_async\n",
      "    result = ImmediateResult(func)\n",
      "  File \"/Users/mac/opt/anaconda3/envs/csci567_2/lib/python3.8/site-packages/joblib/_parallel_backends.py\", line 597, in __init__\n",
      "    self.results = batch()\n",
      "  File \"/Users/mac/opt/anaconda3/envs/csci567_2/lib/python3.8/site-packages/joblib/parallel.py\", line 288, in __call__\n",
      "    return [func(*args, **kwargs)\n",
      "  File \"/Users/mac/opt/anaconda3/envs/csci567_2/lib/python3.8/site-packages/joblib/parallel.py\", line 288, in <listcomp>\n",
      "    return [func(*args, **kwargs)\n",
      "  File \"/Users/mac/opt/anaconda3/envs/csci567_2/lib/python3.8/site-packages/sklearn/utils/parallel.py\", line 127, in __call__\n",
      "    return self.function(*args, **kwargs)\n",
      "  File \"/Users/mac/opt/anaconda3/envs/csci567_2/lib/python3.8/site-packages/sklearn/multiclass.py\", line 90, in _fit_binary\n",
      "    estimator.fit(X, y)\n",
      "  File \"/Users/mac/opt/anaconda3/envs/csci567_2/lib/python3.8/site-packages/sklearn/base.py\", line 1151, in wrapper\n",
      "    return fit_method(estimator, *args, **kwargs)\n",
      "  File \"/Users/mac/opt/anaconda3/envs/csci567_2/lib/python3.8/site-packages/sklearn/linear_model/_logistic.py\", line 1168, in fit\n",
      "    solver = _check_solver(self.solver, self.penalty, self.dual)\n",
      "  File \"/Users/mac/opt/anaconda3/envs/csci567_2/lib/python3.8/site-packages/sklearn/linear_model/_logistic.py\", line 56, in _check_solver\n",
      "    raise ValueError(\n",
      "ValueError: Solver sag supports only 'l2' or 'none' penalties, got l1 penalty.\n",
      "\n",
      "--------------------------------------------------------------------------------\n",
      "25 fits failed with the following error:\n",
      "Traceback (most recent call last):\n",
      "  File \"/Users/mac/opt/anaconda3/envs/csci567_2/lib/python3.8/site-packages/sklearn/model_selection/_validation.py\", line 732, in _fit_and_score\n",
      "    estimator.fit(X_train, y_train, **fit_params)\n",
      "  File \"/Users/mac/opt/anaconda3/envs/csci567_2/lib/python3.8/site-packages/sklearn/base.py\", line 1151, in wrapper\n",
      "    return fit_method(estimator, *args, **kwargs)\n",
      "  File \"/Users/mac/opt/anaconda3/envs/csci567_2/lib/python3.8/site-packages/sklearn/pipeline.py\", line 420, in fit\n",
      "    self._final_estimator.fit(Xt, y, **fit_params_last_step)\n",
      "  File \"/Users/mac/opt/anaconda3/envs/csci567_2/lib/python3.8/site-packages/sklearn/base.py\", line 1151, in wrapper\n",
      "    return fit_method(estimator, *args, **kwargs)\n",
      "  File \"/Users/mac/opt/anaconda3/envs/csci567_2/lib/python3.8/site-packages/sklearn/multiclass.py\", line 339, in fit\n",
      "    self.estimators_ = Parallel(n_jobs=self.n_jobs, verbose=self.verbose)(\n",
      "  File \"/Users/mac/opt/anaconda3/envs/csci567_2/lib/python3.8/site-packages/sklearn/utils/parallel.py\", line 65, in __call__\n",
      "    return super().__call__(iterable_with_config)\n",
      "  File \"/Users/mac/opt/anaconda3/envs/csci567_2/lib/python3.8/site-packages/joblib/parallel.py\", line 1085, in __call__\n",
      "    if self.dispatch_one_batch(iterator):\n",
      "  File \"/Users/mac/opt/anaconda3/envs/csci567_2/lib/python3.8/site-packages/joblib/parallel.py\", line 901, in dispatch_one_batch\n",
      "    self._dispatch(tasks)\n",
      "  File \"/Users/mac/opt/anaconda3/envs/csci567_2/lib/python3.8/site-packages/joblib/parallel.py\", line 819, in _dispatch\n",
      "    job = self._backend.apply_async(batch, callback=cb)\n",
      "  File \"/Users/mac/opt/anaconda3/envs/csci567_2/lib/python3.8/site-packages/joblib/_parallel_backends.py\", line 208, in apply_async\n",
      "    result = ImmediateResult(func)\n",
      "  File \"/Users/mac/opt/anaconda3/envs/csci567_2/lib/python3.8/site-packages/joblib/_parallel_backends.py\", line 597, in __init__\n",
      "    self.results = batch()\n",
      "  File \"/Users/mac/opt/anaconda3/envs/csci567_2/lib/python3.8/site-packages/joblib/parallel.py\", line 288, in __call__\n",
      "    return [func(*args, **kwargs)\n",
      "  File \"/Users/mac/opt/anaconda3/envs/csci567_2/lib/python3.8/site-packages/joblib/parallel.py\", line 288, in <listcomp>\n",
      "    return [func(*args, **kwargs)\n",
      "  File \"/Users/mac/opt/anaconda3/envs/csci567_2/lib/python3.8/site-packages/sklearn/utils/parallel.py\", line 127, in __call__\n",
      "    return self.function(*args, **kwargs)\n",
      "  File \"/Users/mac/opt/anaconda3/envs/csci567_2/lib/python3.8/site-packages/sklearn/multiclass.py\", line 90, in _fit_binary\n",
      "    estimator.fit(X, y)\n",
      "  File \"/Users/mac/opt/anaconda3/envs/csci567_2/lib/python3.8/site-packages/sklearn/base.py\", line 1151, in wrapper\n",
      "    return fit_method(estimator, *args, **kwargs)\n",
      "  File \"/Users/mac/opt/anaconda3/envs/csci567_2/lib/python3.8/site-packages/sklearn/linear_model/_logistic.py\", line 1168, in fit\n",
      "    solver = _check_solver(self.solver, self.penalty, self.dual)\n",
      "  File \"/Users/mac/opt/anaconda3/envs/csci567_2/lib/python3.8/site-packages/sklearn/linear_model/_logistic.py\", line 56, in _check_solver\n",
      "    raise ValueError(\n",
      "ValueError: Solver lbfgs supports only 'l2' or 'none' penalties, got l1 penalty.\n",
      "\n",
      "  warnings.warn(some_fits_failed_message, FitFailedWarning)\n",
      "/Users/mac/opt/anaconda3/envs/csci567_2/lib/python3.8/site-packages/sklearn/model_selection/_search.py:976: UserWarning: One or more of the test scores are non-finite: [0.30197531        nan 0.35641975        nan 0.77972222 0.78219136\n",
      " 0.78219136 0.78219136 0.8020679         nan 0.8020679         nan\n",
      " 0.80450617 0.80947531 0.80947531 0.80947531 0.79219136        nan\n",
      " 0.78972222        nan 0.79709877 0.8020679  0.8020679  0.8020679\n",
      " 0.78969136        nan 0.78969136        nan 0.78969136 0.78969136\n",
      " 0.78969136 0.78969136 0.78969136        nan 0.78969136        nan\n",
      " 0.78969136 0.78969136 0.78969136 0.78969136]\n",
      "  warnings.warn(\n"
     ]
    },
    {
     "data": {
      "text/plain": "({'onevsrestclassifier__estimator__C': 0.1,\n  'onevsrestclassifier__estimator__penalty': 'l2',\n  'onevsrestclassifier__estimator__solver': 'sag'},\n 0.8094753086419754)"
     },
     "execution_count": 4,
     "metadata": {},
     "output_type": "execute_result"
    }
   ],
   "source": [
    "# Define the parameter grid to search\n",
    "param_grid = {\n",
    "    'onevsrestclassifier__estimator__C': [0.01, 0.1, 1, 10, 100],\n",
    "    'onevsrestclassifier__estimator__penalty': ['l1', 'l2'],\n",
    "    'onevsrestclassifier__estimator__solver': ['liblinear', 'sag', 'saga', 'lbfgs']\n",
    "}\n",
    "\n",
    "# Define the model for grid search\n",
    "model_gs = make_pipeline(StandardScaler(), OneVsRestClassifier(LogisticRegression(random_state=42)))\n",
    "\n",
    "# Setup the grid search with cross-validation\n",
    "grid_search = GridSearchCV(model_gs, param_grid, cv=5, scoring='accuracy', verbose=1)\n",
    "\n",
    "# Fit grid search on the train+validation set\n",
    "grid_search.fit(X_train_val, y_train_val)\n",
    "\n",
    "# Get the best parameters and the best score\n",
    "best_params = grid_search.best_params_\n",
    "best_score = grid_search.best_score_\n",
    "\n",
    "best_params, best_score"
   ],
   "metadata": {
    "collapsed": false,
    "ExecuteTime": {
     "end_time": "2024-05-05T05:44:08.154648Z",
     "start_time": "2024-05-05T05:44:06.521378Z"
    }
   },
   "id": "7c82f60436808977",
   "execution_count": 4
  },
  {
   "cell_type": "code",
   "outputs": [
    {
     "data": {
      "text/plain": "0.7659574468085106"
     },
     "execution_count": 5,
     "metadata": {},
     "output_type": "execute_result"
    }
   ],
   "source": [
    "# Re-create the model with the best parameters found from grid search\n",
    "best_model = make_pipeline(\n",
    "    StandardScaler(),\n",
    "    OneVsRestClassifier(LogisticRegression(\n",
    "        C=best_params['onevsrestclassifier__estimator__C'],\n",
    "        penalty=best_params['onevsrestclassifier__estimator__penalty'],\n",
    "        solver=best_params['onevsrestclassifier__estimator__solver'],\n",
    "        random_state=42\n",
    "    ))\n",
    ")\n",
    "\n",
    "# Fit the model with the best parameters on the entire training and validation set\n",
    "best_model.fit(X_train_val, y_train_val)\n",
    "\n",
    "# Predict on the test set\n",
    "y_test_pred = best_model.predict(X_test)\n",
    "\n",
    "# Calculate the accuracy on the test set\n",
    "accuracy_test = accuracy_score(y_test, y_test_pred)\n",
    "\n",
    "accuracy_test"
   ],
   "metadata": {
    "collapsed": false,
    "ExecuteTime": {
     "end_time": "2024-05-05T05:44:08.168249Z",
     "start_time": "2024-05-05T05:44:08.157402Z"
    }
   },
   "id": "ce944e8ec1ca639",
   "execution_count": 5
  },
  {
   "cell_type": "code",
   "outputs": [
    {
     "name": "stdout",
     "output_type": "stream",
     "text": [
      "Precision: 0.64\n",
      "Recall: 0.63\n",
      "F1-Score: 0.63\n"
     ]
    }
   ],
   "source": [
    "# Calculate precision, recall, and F1-score for the test set\n",
    "precision_test = precision_score(y_test, y_test_pred, average='macro', zero_division=1)\n",
    "recall_test = recall_score(y_test, y_test_pred, average='macro')\n",
    "f1_test = f1_score(y_test, y_test_pred, average='macro')\n",
    "\n",
    "print(\"Precision: {:.2f}\".format(precision_test))\n",
    "print(\"Recall: {:.2f}\".format(recall_test))\n",
    "print(\"F1-Score: {:.2f}\".format(f1_test))"
   ],
   "metadata": {
    "collapsed": false,
    "ExecuteTime": {
     "end_time": "2024-05-05T05:44:08.194351Z",
     "start_time": "2024-05-05T05:44:08.174303Z"
    }
   },
   "id": "5ccfb620a637de91",
   "execution_count": 6
  },
  {
   "cell_type": "code",
   "outputs": [
    {
     "data": {
      "text/plain": "<Figure size 1000x700 with 2 Axes>",
      "image/png": "[encoded data removed]"
     },
     "metadata": {},
     "output_type": "display_data"
    }
   ],
   "source": [
    "# Calculate confusion matrix\n",
    "conf_mat = confusion_matrix(y_test, y_test_pred)\n",
    "\n",
    "# Plot the confusion matrix using Seaborn\n",
    "plt.figure(figsize=(10, 7))\n",
    "sns.heatmap(conf_mat, annot=True, fmt='g', cmap='Blues', xticklabels=[0, 1, 2], yticklabels=[0, 1, 2])\n",
    "plt.xlabel('Predicted labels')\n",
    "plt.ylabel('True labels')\n",
    "plt.title('Confusion Matrix for Test set')\n",
    "plt.show()"
   ],
   "metadata": {
    "collapsed": false,
    "ExecuteTime": {
     "end_time": "2024-05-05T05:44:08.319141Z",
     "start_time": "2024-05-05T05:44:08.178914Z"
    }
   },
   "id": "5e234809c78ea8af",
   "execution_count": 7
  },
  {
   "cell_type": "code",
   "outputs": [
    {
     "data": {
      "text/plain": "<Figure size 1000x700 with 2 Axes>",
      "image/png": "[encoded data removed]"
     },
     "metadata": {},
     "output_type": "display_data"
    }
   ],
   "source": [
    "# Predict on the train+validation set to see the performance on the training data\n",
    "y_train_val_pred = best_model.predict(X_train_val)\n",
    "\n",
    "# Calculate confusion matrix for the train+validation set\n",
    "conf_mat_train_val = confusion_matrix(y_train_val, y_train_val_pred)\n",
    "\n",
    "# Plot the confusion matrix for the train+validation set\n",
    "plt.figure(figsize=(10, 7))\n",
    "sns.heatmap(conf_mat_train_val, annot=True, fmt='g', cmap='Blues', xticklabels=[0, 1, 2], yticklabels=[0, 1, 2])\n",
    "plt.xlabel('Predicted labels')\n",
    "plt.ylabel('True labels')\n",
    "plt.title('Confusion Matrix for Training and Val Set')\n",
    "plt.show()"
   ],
   "metadata": {
    "collapsed": false,
    "ExecuteTime": {
     "end_time": "2024-05-05T05:44:08.437499Z",
     "start_time": "2024-05-05T05:44:08.321269Z"
    }
   },
   "id": "f4635b70031a19da",
   "execution_count": 8
  },
  {
   "cell_type": "code",
   "outputs": [
    {
     "data": {
      "text/plain": "0.7083716788243705"
     },
     "execution_count": 9,
     "metadata": {},
     "output_type": "execute_result"
    }
   ],
   "source": [
    "# Get the probability predictions for the test set\n",
    "y_test_proba = best_model.predict_proba(X_test)\n",
    "# Clip the probability predictions to avoid log(0) issues\n",
    "y_test_proba_clipped = np.clip(y_test_proba, 1e-15, 1 - 1e-15)\n",
    "\n",
    "# Calculate the log loss on the test set again after clipping\n",
    "logloss_test = log_loss(y_test, y_test_proba_clipped)\n",
    "\n",
    "logloss_test"
   ],
   "metadata": {
    "collapsed": false,
    "ExecuteTime": {
     "end_time": "2024-05-05T05:44:08.443461Z",
     "start_time": "2024-05-05T05:44:08.441239Z"
    }
   },
   "id": "2807d337136c1dbd",
   "execution_count": 9
  },
  {
   "cell_type": "code",
   "outputs": [
    {
     "name": "stdout",
     "output_type": "stream",
     "text": [
      "Fitting 5 folds for each of 200 candidates, totalling 1000 fits\n"
     ]
    },
    {
     "name": "stderr",
     "output_type": "stream",
     "text": [
      "/Users/mac/opt/anaconda3/envs/csci567_2/lib/python3.8/site-packages/sklearn/model_selection/_validation.py:425: FitFailedWarning: \n",
      "250 fits failed out of a total of 1000.\n",
      "The score on these train-test partitions for these parameters will be set to nan.\n",
      "If these failures are not expected, you can try to debug them by setting error_score='raise'.\n",
      "\n",
      "Below are more details about the failures:\n",
      "--------------------------------------------------------------------------------\n",
      "125 fits failed with the following error:\n",
      "Traceback (most recent call last):\n",
      "  File \"/Users/mac/opt/anaconda3/envs/csci567_2/lib/python3.8/site-packages/sklearn/model_selection/_validation.py\", line 732, in _fit_and_score\n",
      "    estimator.fit(X_train, y_train, **fit_params)\n",
      "  File \"/Users/mac/opt/anaconda3/envs/csci567_2/lib/python3.8/site-packages/sklearn/base.py\", line 1151, in wrapper\n",
      "    return fit_method(estimator, *args, **kwargs)\n",
      "  File \"/Users/mac/opt/anaconda3/envs/csci567_2/lib/python3.8/site-packages/sklearn/pipeline.py\", line 420, in fit\n",
      "    self._final_estimator.fit(Xt, y, **fit_params_last_step)\n",
      "  File \"/Users/mac/opt/anaconda3/envs/csci567_2/lib/python3.8/site-packages/sklearn/base.py\", line 1151, in wrapper\n",
      "    return fit_method(estimator, *args, **kwargs)\n",
      "  File \"/Users/mac/opt/anaconda3/envs/csci567_2/lib/python3.8/site-packages/sklearn/multiclass.py\", line 339, in fit\n",
      "    self.estimators_ = Parallel(n_jobs=self.n_jobs, verbose=self.verbose)(\n",
      "  File \"/Users/mac/opt/anaconda3/envs/csci567_2/lib/python3.8/site-packages/sklearn/utils/parallel.py\", line 65, in __call__\n",
      "    return super().__call__(iterable_with_config)\n",
      "  File \"/Users/mac/opt/anaconda3/envs/csci567_2/lib/python3.8/site-packages/joblib/parallel.py\", line 1085, in __call__\n",
      "    if self.dispatch_one_batch(iterator):\n",
      "  File \"/Users/mac/opt/anaconda3/envs/csci567_2/lib/python3.8/site-packages/joblib/parallel.py\", line 901, in dispatch_one_batch\n",
      "    self._dispatch(tasks)\n",
      "  File \"/Users/mac/opt/anaconda3/envs/csci567_2/lib/python3.8/site-packages/joblib/parallel.py\", line 819, in _dispatch\n",
      "    job = self._backend.apply_async(batch, callback=cb)\n",
      "  File \"/Users/mac/opt/anaconda3/envs/csci567_2/lib/python3.8/site-packages/joblib/_parallel_backends.py\", line 208, in apply_async\n",
      "    result = ImmediateResult(func)\n",
      "  File \"/Users/mac/opt/anaconda3/envs/csci567_2/lib/python3.8/site-packages/joblib/_parallel_backends.py\", line 597, in __init__\n",
      "    self.results = batch()\n",
      "  File \"/Users/mac/opt/anaconda3/envs/csci567_2/lib/python3.8/site-packages/joblib/parallel.py\", line 288, in __call__\n",
      "    return [func(*args, **kwargs)\n",
      "  File \"/Users/mac/opt/anaconda3/envs/csci567_2/lib/python3.8/site-packages/joblib/parallel.py\", line 288, in <listcomp>\n",
      "    return [func(*args, **kwargs)\n",
      "  File \"/Users/mac/opt/anaconda3/envs/csci567_2/lib/python3.8/site-packages/sklearn/utils/parallel.py\", line 127, in __call__\n",
      "    return self.function(*args, **kwargs)\n",
      "  File \"/Users/mac/opt/anaconda3/envs/csci567_2/lib/python3.8/site-packages/sklearn/multiclass.py\", line 90, in _fit_binary\n",
      "    estimator.fit(X, y)\n",
      "  File \"/Users/mac/opt/anaconda3/envs/csci567_2/lib/python3.8/site-packages/sklearn/base.py\", line 1151, in wrapper\n",
      "    return fit_method(estimator, *args, **kwargs)\n",
      "  File \"/Users/mac/opt/anaconda3/envs/csci567_2/lib/python3.8/site-packages/sklearn/linear_model/_logistic.py\", line 1168, in fit\n",
      "    solver = _check_solver(self.solver, self.penalty, self.dual)\n",
      "  File \"/Users/mac/opt/anaconda3/envs/csci567_2/lib/python3.8/site-packages/sklearn/linear_model/_logistic.py\", line 56, in _check_solver\n",
      "    raise ValueError(\n",
      "ValueError: Solver sag supports only 'l2' or 'none' penalties, got l1 penalty.\n",
      "\n",
      "--------------------------------------------------------------------------------\n",
      "125 fits failed with the following error:\n",
      "Traceback (most recent call last):\n",
      "  File \"/Users/mac/opt/anaconda3/envs/csci567_2/lib/python3.8/site-packages/sklearn/model_selection/_validation.py\", line 732, in _fit_and_score\n",
      "    estimator.fit(X_train, y_train, **fit_params)\n",
      "  File \"/Users/mac/opt/anaconda3/envs/csci567_2/lib/python3.8/site-packages/sklearn/base.py\", line 1151, in wrapper\n",
      "    return fit_method(estimator, *args, **kwargs)\n",
      "  File \"/Users/mac/opt/anaconda3/envs/csci567_2/lib/python3.8/site-packages/sklearn/pipeline.py\", line 420, in fit\n",
      "    self._final_estimator.fit(Xt, y, **fit_params_last_step)\n",
      "  File \"/Users/mac/opt/anaconda3/envs/csci567_2/lib/python3.8/site-packages/sklearn/base.py\", line 1151, in wrapper\n",
      "    return fit_method(estimator, *args, **kwargs)\n",
      "  File \"/Users/mac/opt/anaconda3/envs/csci567_2/lib/python3.8/site-packages/sklearn/multiclass.py\", line 339, in fit\n",
      "    self.estimators_ = Parallel(n_jobs=self.n_jobs, verbose=self.verbose)(\n",
      "  File \"/Users/mac/opt/anaconda3/envs/csci567_2/lib/python3.8/site-packages/sklearn/utils/parallel.py\", line 65, in __call__\n",
      "    return super().__call__(iterable_with_config)\n",
      "  File \"/Users/mac/opt/anaconda3/envs/csci567_2/lib/python3.8/site-packages/joblib/parallel.py\", line 1085, in __call__\n",
      "    if self.dispatch_one_batch(iterator):\n",
      "  File \"/Users/mac/opt/anaconda3/envs/csci567_2/lib/python3.8/site-packages/joblib/parallel.py\", line 901, in dispatch_one_batch\n",
      "    self._dispatch(tasks)\n",
      "  File \"/Users/mac/opt/anaconda3/envs/csci567_2/lib/python3.8/site-packages/joblib/parallel.py\", line 819, in _dispatch\n",
      "    job = self._backend.apply_async(batch, callback=cb)\n",
      "  File \"/Users/mac/opt/anaconda3/envs/csci567_2/lib/python3.8/site-packages/joblib/_parallel_backends.py\", line 208, in apply_async\n",
      "    result = ImmediateResult(func)\n",
      "  File \"/Users/mac/opt/anaconda3/envs/csci567_2/lib/python3.8/site-packages/joblib/_parallel_backends.py\", line 597, in __init__\n",
      "    self.results = batch()\n",
      "  File \"/Users/mac/opt/anaconda3/envs/csci567_2/lib/python3.8/site-packages/joblib/parallel.py\", line 288, in __call__\n",
      "    return [func(*args, **kwargs)\n",
      "  File \"/Users/mac/opt/anaconda3/envs/csci567_2/lib/python3.8/site-packages/joblib/parallel.py\", line 288, in <listcomp>\n",
      "    return [func(*args, **kwargs)\n",
      "  File \"/Users/mac/opt/anaconda3/envs/csci567_2/lib/python3.8/site-packages/sklearn/utils/parallel.py\", line 127, in __call__\n",
      "    return self.function(*args, **kwargs)\n",
      "  File \"/Users/mac/opt/anaconda3/envs/csci567_2/lib/python3.8/site-packages/sklearn/multiclass.py\", line 90, in _fit_binary\n",
      "    estimator.fit(X, y)\n",
      "  File \"/Users/mac/opt/anaconda3/envs/csci567_2/lib/python3.8/site-packages/sklearn/base.py\", line 1151, in wrapper\n",
      "    return fit_method(estimator, *args, **kwargs)\n",
      "  File \"/Users/mac/opt/anaconda3/envs/csci567_2/lib/python3.8/site-packages/sklearn/linear_model/_logistic.py\", line 1168, in fit\n",
      "    solver = _check_solver(self.solver, self.penalty, self.dual)\n",
      "  File \"/Users/mac/opt/anaconda3/envs/csci567_2/lib/python3.8/site-packages/sklearn/linear_model/_logistic.py\", line 56, in _check_solver\n",
      "    raise ValueError(\n",
      "ValueError: Solver lbfgs supports only 'l2' or 'none' penalties, got l1 penalty.\n",
      "\n",
      "  warnings.warn(some_fits_failed_message, FitFailedWarning)\n",
      "/Users/mac/opt/anaconda3/envs/csci567_2/lib/python3.8/site-packages/sklearn/model_selection/_search.py:976: UserWarning: One or more of the test scores are non-finite: [0.54203704 0.54697531 0.54697531 0.54697531 0.54697531        nan\n",
      "        nan        nan        nan        nan 0.53453704 0.53453704\n",
      " 0.53453704 0.53453704 0.53453704        nan        nan        nan\n",
      "        nan        nan 0.54203704 0.67567901 0.74256173 0.74256173\n",
      " 0.72774691 0.5395679  0.6583642  0.74753086 0.73512346 0.73512346\n",
      " 0.5395679  0.6583642  0.74753086 0.73512346 0.73512346 0.5395679\n",
      " 0.6583642  0.74753086 0.73512346 0.73512346 0.54947531 0.66089506\n",
      " 0.76237654 0.76734568 0.76237654        nan        nan        nan\n",
      "        nan        nan 0.54947531 0.66089506 0.75743827 0.76981481\n",
      " 0.76981481        nan        nan        nan        nan        nan\n",
      " 0.54947531 0.65842593 0.76731481 0.77225309 0.75990741 0.54947531\n",
      " 0.6633642  0.75996914 0.77722222 0.76478395 0.54947531 0.66583333\n",
      " 0.75996914 0.77722222 0.76478395 0.54947531 0.66583333 0.75996914\n",
      " 0.77722222 0.76478395 0.54947531 0.67324074 0.76734568 0.76978395\n",
      " 0.76972222        nan        nan        nan        nan        nan\n",
      " 0.54947531 0.67324074 0.76731481 0.77225309 0.76972222        nan\n",
      "        nan        nan        nan        nan 0.54947531 0.66830247\n",
      " 0.76981481 0.76978395 0.76972222 0.54947531 0.67324074 0.76734568\n",
      " 0.76978395 0.76972222 0.54947531 0.67324074 0.76734568 0.76978395\n",
      " 0.76972222 0.54947531 0.67324074 0.76734568 0.76978395 0.76972222\n",
      " 0.54947531 0.67324074 0.76984568 0.76978395 0.76972222        nan\n",
      "        nan        nan        nan        nan 0.54947531 0.67324074\n",
      " 0.76984568 0.76978395 0.76972222        nan        nan        nan\n",
      "        nan        nan 0.54947531 0.67324074 0.76984568 0.76978395\n",
      " 0.76972222 0.55194444 0.67324074 0.76984568 0.76978395 0.76972222\n",
      " 0.54947531 0.67324074 0.76984568 0.76978395 0.76972222 0.54947531\n",
      " 0.67324074 0.76984568 0.76978395 0.76972222 0.54947531 0.67324074\n",
      " 0.76984568 0.76978395 0.76972222        nan        nan        nan\n",
      "        nan        nan 0.54947531 0.67324074 0.76984568 0.76978395\n",
      " 0.76972222        nan        nan        nan        nan        nan\n",
      " 0.54947531 0.67324074 0.76984568 0.76978395 0.76972222 0.55194444\n",
      " 0.67324074 0.76984568 0.76978395 0.76972222 0.54947531 0.67324074\n",
      " 0.76984568 0.76978395 0.76972222 0.54947531 0.67324074 0.76984568\n",
      " 0.76978395 0.76972222]\n",
      "  warnings.warn(\n"
     ]
    },
    {
     "data": {
      "text/plain": "({'logistic_regression__estimator__C': 0.1,\n  'logistic_regression__estimator__penalty': 'l2',\n  'logistic_regression__estimator__solver': 'sag',\n  'pca__n_components': 4},\n 0.7772222222222223)"
     },
     "execution_count": 10,
     "metadata": {},
     "output_type": "execute_result"
    }
   ],
   "source": [
    "# Define a new pipeline with PCA and logistic regression for grid search\n",
    "pca_lr_pipeline = Pipeline([\n",
    "    ('scaler', StandardScaler()),\n",
    "    ('pca', PCA()),\n",
    "    ('logistic_regression', OneVsRestClassifier(LogisticRegression(solver='liblinear', random_state=42)))\n",
    "])\n",
    "\n",
    "# Define a new parameter grid, considering PCA components and logistic regression parameters\n",
    "param_grid_pca_lr = {\n",
    "    'pca__n_components': [1, 2, 3, 4, 5],\n",
    "    'logistic_regression__estimator__C': [0.01, 0.1, 1, 10, 100],\n",
    "    'logistic_regression__estimator__penalty': ['l1', 'l2'],\n",
    "    'logistic_regression__estimator__solver': ['liblinear', 'sag', 'saga', 'lbfgs']\n",
    "}\n",
    "\n",
    "# Setup the grid search with cross-validation\n",
    "grid_search_pca_lr = GridSearchCV(pca_lr_pipeline, param_grid_pca_lr, cv=5, scoring='accuracy', verbose=1)\n",
    "\n",
    "# Fit grid search on the train+validation set\n",
    "grid_search_pca_lr.fit(X_train_val, y_train_val)\n",
    "\n",
    "# Get the best parameters and the best score from the grid search\n",
    "best_params_pca_lr = grid_search_pca_lr.best_params_\n",
    "best_score_pca_lr = grid_search_pca_lr.best_score_\n",
    "\n",
    "best_params_pca_lr, best_score_pca_lr"
   ],
   "metadata": {
    "collapsed": false,
    "ExecuteTime": {
     "end_time": "2024-05-05T05:44:14.416272Z",
     "start_time": "2024-05-05T05:44:08.446611Z"
    }
   },
   "id": "8ad4a410a55948f6",
   "execution_count": 10
  },
  {
   "cell_type": "code",
   "outputs": [
    {
     "data": {
      "text/plain": "0.7021276595744681"
     },
     "execution_count": 11,
     "metadata": {},
     "output_type": "execute_result"
    }
   ],
   "source": [
    "# Re-create the model with the best parameters found from the updated grid search\n",
    "best_pca_lr_model = Pipeline([\n",
    "    ('scaler', StandardScaler()),\n",
    "    ('pca', PCA(n_components=best_params_pca_lr['pca__n_components'])),\n",
    "    ('logistic_regression', OneVsRestClassifier(LogisticRegression(\n",
    "        C=best_params_pca_lr['logistic_regression__estimator__C'],\n",
    "        penalty=best_params_pca_lr['logistic_regression__estimator__penalty'],\n",
    "        solver=best_params_pca_lr['logistic_regression__estimator__solver'],\n",
    "        random_state=42\n",
    "    )))\n",
    "])\n",
    "\n",
    "# Fit the model with the best parameters on the entire training and validation set\n",
    "best_pca_lr_model.fit(X_train_val, y_train_val)\n",
    "\n",
    "# Predict on the test set\n",
    "y_test_pred_best_pca_lr = best_pca_lr_model.predict(X_test)\n",
    "\n",
    "# Calculate the accuracy on the test set\n",
    "accuracy_test_best_pca_lr = accuracy_score(y_test, y_test_pred_best_pca_lr)\n",
    "\n",
    "accuracy_test_best_pca_lr"
   ],
   "metadata": {
    "collapsed": false,
    "ExecuteTime": {
     "end_time": "2024-05-05T05:44:14.428184Z",
     "start_time": "2024-05-05T05:44:14.417494Z"
    }
   },
   "id": "1d5b58036c24ab5b",
   "execution_count": 11
  },
  {
   "cell_type": "code",
   "outputs": [
    {
     "name": "stdout",
     "output_type": "stream",
     "text": [
      "Precision: 0.64\n",
      "Recall: 0.63\n",
      "F1-Score: 0.63\n"
     ]
    }
   ],
   "source": [
    "# Calculate precision, recall, and F1-score for the test set\n",
    "precision_test = precision_score(y_test, y_test_pred, average='macro', zero_division=1)\n",
    "recall_test = recall_score(y_test, y_test_pred, average='macro')\n",
    "f1_test = f1_score(y_test, y_test_pred, average='macro')\n",
    "\n",
    "print(\"Precision: {:.2f}\".format(precision_test))\n",
    "print(\"Recall: {:.2f}\".format(recall_test))\n",
    "print(\"F1-Score: {:.2f}\".format(f1_test))"
   ],
   "metadata": {
    "collapsed": false,
    "ExecuteTime": {
     "end_time": "2024-05-05T05:44:14.451276Z",
     "start_time": "2024-05-05T05:44:14.431876Z"
    }
   },
   "id": "c67edff753cab1b1",
   "execution_count": 12
  },
  {
   "cell_type": "code",
   "outputs": [
    {
     "data": {
      "text/plain": "<Figure size 1000x700 with 2 Axes>",
      "image/png": "[encoded data removed]"
     },
     "metadata": {},
     "output_type": "display_data"
    }
   ],
   "source": [
    "# Calculate confusion matrix\n",
    "conf_mat = confusion_matrix(y_test, y_test_pred_best_pca_lr)\n",
    "\n",
    "# Plot the confusion matrix using Seaborn\n",
    "plt.figure(figsize=(10, 7))\n",
    "sns.heatmap(conf_mat, annot=True, fmt='g', cmap='Blues', xticklabels=[0, 1, 2], yticklabels=[0, 1, 2])\n",
    "plt.xlabel('Predicted labels')\n",
    "plt.ylabel('True labels')\n",
    "plt.title('Confusion Matrix for Test set')\n",
    "plt.show()"
   ],
   "metadata": {
    "collapsed": false,
    "ExecuteTime": {
     "end_time": "2024-05-05T05:44:14.552395Z",
     "start_time": "2024-05-05T05:44:14.437036Z"
    }
   },
   "id": "5ab36ae749b77319",
   "execution_count": 13
  },
  {
   "cell_type": "code",
   "outputs": [
    {
     "data": {
      "text/plain": "<Figure size 1000x700 with 2 Axes>",
      "image/png": "[encoded data removed]"
     },
     "metadata": {},
     "output_type": "display_data"
    }
   ],
   "source": [
    "# Predict on the train+validation set to see the performance on the training data\n",
    "y_train_val_pred = best_pca_lr_model.predict(X_train_val)\n",
    "\n",
    "# Calculate confusion matrix for the train+validation set\n",
    "conf_mat_train_val = confusion_matrix(y_train_val, y_train_val_pred)\n",
    "\n",
    "# Plot the confusion matrix for the train+validation set\n",
    "plt.figure(figsize=(10, 7))\n",
    "sns.heatmap(conf_mat_train_val, annot=True, fmt='g', cmap='Blues', xticklabels=[0, 1, 2], yticklabels=[0, 1, 2])\n",
    "plt.xlabel('Predicted labels')\n",
    "plt.ylabel('True labels')\n",
    "plt.title('Confusion Matrix for Training and Val Set')\n",
    "plt.show()"
   ],
   "metadata": {
    "collapsed": false,
    "ExecuteTime": {
     "end_time": "2024-05-05T05:44:14.670608Z",
     "start_time": "2024-05-05T05:44:14.555344Z"
    }
   },
   "id": "eaaeb00fef57d21c",
   "execution_count": 14
  },
  {
   "cell_type": "code",
   "outputs": [
    {
     "data": {
      "text/plain": "0.8768378651345295"
     },
     "execution_count": 15,
     "metadata": {},
     "output_type": "execute_result"
    }
   ],
   "source": [
    "# Get the probability predictions for the test set\n",
    "y_test_proba = best_pca_lr_model.predict_proba(X_test)\n",
    "# Clip the probability predictions to avoid log(0) issues\n",
    "y_test_proba_clipped = np.clip(y_test_proba, 1e-15, 1 - 1e-15)\n",
    "\n",
    "# Calculate the log loss on the test set again after clipping\n",
    "logloss_test = log_loss(y_test, y_test_proba_clipped)\n",
    "\n",
    "logloss_test"
   ],
   "metadata": {
    "collapsed": false,
    "ExecuteTime": {
     "end_time": "2024-05-05T05:44:14.677418Z",
     "start_time": "2024-05-05T05:44:14.672954Z"
    }
   },
   "id": "128490e0085bfe41",
   "execution_count": 15
  }
 ],
 "metadata": {
  "kernelspec": {
   "display_name": "Python 3",
   "language": "python",
   "name": "python3"
  },
  "language_info": {
   "codemirror_mode": {
    "name": "ipython",
    "version": 2
   },
   "file_extension": ".py",
   "mimetype": "text/x-python",
   "name": "python",
   "nbconvert_exporter": "python",
   "pygments_lexer": "ipython2",
   "version": "2.7.6"
  }
 },
 "nbformat": 4,
 "nbformat_minor": 5
}
