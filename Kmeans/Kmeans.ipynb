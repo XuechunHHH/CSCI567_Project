{
 "cells": [
  {
   "cell_type": "code",
   "execution_count": 2,
   "id": "initial_id",
   "metadata": {
    "collapsed": true,
    "ExecuteTime": {
     "end_time": "2024-05-05T05:53:07.601772Z",
     "start_time": "2024-05-05T05:53:07.171852Z"
    }
   },
   "outputs": [],
   "source": [
    "import pandas as pd\n",
    "import numpy as np\n",
    "from sklearn.model_selection import train_test_split\n",
    "from sklearn.cluster import KMeans\n",
    "from sklearn.metrics import silhouette_score\n",
    "from sklearn.metrics import accuracy_score\n",
    "from sklearn.decomposition import PCA\n",
    "import matplotlib.pyplot as plt"
   ]
  },
  {
   "cell_type": "code",
   "outputs": [
    {
     "data": {
      "text/plain": "   ID    N_Days       Age  Bilirubin  Cholesterol   Albumin    Copper  \\\n0   1 -1.432360  0.827904   2.485914    -0.491215 -2.194559  0.684867   \n1   2  2.223526  0.608395  -0.476689    -0.305613  1.478942 -0.512297   \n2   3 -0.886652  1.898239  -0.410362    -0.876001 -0.095416  1.318660   \n3   4 -0.072549  0.446938  -0.321927    -0.568172 -2.337683 -0.394928   \n4   5 -0.447946 -1.127724   0.031817    -0.409731  0.023854  0.532288   \n\n   Alk_Phos      SGOT  Tryglicerides  Platelets  Prothrombin     Stage  \\\n0 -0.123847  0.271931       0.764998  -0.757816     1.470371  1.104369   \n1  2.532642 -0.159629      -0.593622  -0.430953    -0.125301 -0.036569   \n2 -0.686329 -0.467356      -1.127366  -1.169029     1.270912  1.104369   \n3  1.936935 -1.093939      -0.528926  -0.831623    -0.424490  1.104369   \n4 -0.613796 -0.166165      -0.852407  -1.327189     0.173887 -0.036569   \n\n   Status  Drug  Sex  Ascites  Hepatomegaly  Spiders  Edema  \n0       0     0    0        0             0        0      0  \n1       1     0    0        1             0        0      1  \n2       0     0    1        1             1        1      2  \n3       0     0    0        1             0        0      2  \n4       2     1    0        1             0        0      1  ",
      "text/html": "<div>\n<style scoped>\n    .dataframe tbody tr th:only-of-type {\n        vertical-align: middle;\n    }\n\n    .dataframe tbody tr th {\n        vertical-align: top;\n    }\n\n    .dataframe thead th {\n        text-align: right;\n    }\n</style>\n<table border=\"1\" class=\"dataframe\">\n  <thead>\n    <tr style=\"text-align: right;\">\n      <th></th>\n      <th>ID</th>\n      <th>N_Days</th>\n      <th>Age</th>\n      <th>Bilirubin</th>\n      <th>Cholesterol</th>\n      <th>Albumin</th>\n      <th>Copper</th>\n      <th>Alk_Phos</th>\n      <th>SGOT</th>\n      <th>Tryglicerides</th>\n      <th>Platelets</th>\n      <th>Prothrombin</th>\n      <th>Stage</th>\n      <th>Status</th>\n      <th>Drug</th>\n      <th>Sex</th>\n      <th>Ascites</th>\n      <th>Hepatomegaly</th>\n      <th>Spiders</th>\n      <th>Edema</th>\n    </tr>\n  </thead>\n  <tbody>\n    <tr>\n      <th>0</th>\n      <td>1</td>\n      <td>-1.432360</td>\n      <td>0.827904</td>\n      <td>2.485914</td>\n      <td>-0.491215</td>\n      <td>-2.194559</td>\n      <td>0.684867</td>\n      <td>-0.123847</td>\n      <td>0.271931</td>\n      <td>0.764998</td>\n      <td>-0.757816</td>\n      <td>1.470371</td>\n      <td>1.104369</td>\n      <td>0</td>\n      <td>0</td>\n      <td>0</td>\n      <td>0</td>\n      <td>0</td>\n      <td>0</td>\n      <td>0</td>\n    </tr>\n    <tr>\n      <th>1</th>\n      <td>2</td>\n      <td>2.223526</td>\n      <td>0.608395</td>\n      <td>-0.476689</td>\n      <td>-0.305613</td>\n      <td>1.478942</td>\n      <td>-0.512297</td>\n      <td>2.532642</td>\n      <td>-0.159629</td>\n      <td>-0.593622</td>\n      <td>-0.430953</td>\n      <td>-0.125301</td>\n      <td>-0.036569</td>\n      <td>1</td>\n      <td>0</td>\n      <td>0</td>\n      <td>1</td>\n      <td>0</td>\n      <td>0</td>\n      <td>1</td>\n    </tr>\n    <tr>\n      <th>2</th>\n      <td>3</td>\n      <td>-0.886652</td>\n      <td>1.898239</td>\n      <td>-0.410362</td>\n      <td>-0.876001</td>\n      <td>-0.095416</td>\n      <td>1.318660</td>\n      <td>-0.686329</td>\n      <td>-0.467356</td>\n      <td>-1.127366</td>\n      <td>-1.169029</td>\n      <td>1.270912</td>\n      <td>1.104369</td>\n      <td>0</td>\n      <td>0</td>\n      <td>1</td>\n      <td>1</td>\n      <td>1</td>\n      <td>1</td>\n      <td>2</td>\n    </tr>\n    <tr>\n      <th>3</th>\n      <td>4</td>\n      <td>-0.072549</td>\n      <td>0.446938</td>\n      <td>-0.321927</td>\n      <td>-0.568172</td>\n      <td>-2.337683</td>\n      <td>-0.394928</td>\n      <td>1.936935</td>\n      <td>-1.093939</td>\n      <td>-0.528926</td>\n      <td>-0.831623</td>\n      <td>-0.424490</td>\n      <td>1.104369</td>\n      <td>0</td>\n      <td>0</td>\n      <td>0</td>\n      <td>1</td>\n      <td>0</td>\n      <td>0</td>\n      <td>2</td>\n    </tr>\n    <tr>\n      <th>4</th>\n      <td>5</td>\n      <td>-0.447946</td>\n      <td>-1.127724</td>\n      <td>0.031817</td>\n      <td>-0.409731</td>\n      <td>0.023854</td>\n      <td>0.532288</td>\n      <td>-0.613796</td>\n      <td>-0.166165</td>\n      <td>-0.852407</td>\n      <td>-1.327189</td>\n      <td>0.173887</td>\n      <td>-0.036569</td>\n      <td>2</td>\n      <td>1</td>\n      <td>0</td>\n      <td>1</td>\n      <td>0</td>\n      <td>0</td>\n      <td>1</td>\n    </tr>\n  </tbody>\n</table>\n</div>"
     },
     "execution_count": 3,
     "metadata": {},
     "output_type": "execute_result"
    }
   ],
   "source": [
    "# Load the data\n",
    "data_path = 'cirrhosis_clean.csv'\n",
    "data = pd.read_csv(data_path)\n",
    "# Display the first few rows of the dataframe to understand its structure\n",
    "data.head()"
   ],
   "metadata": {
    "collapsed": false,
    "ExecuteTime": {
     "end_time": "2024-05-05T05:53:07.619331Z",
     "start_time": "2024-05-05T05:53:07.603430Z"
    }
   },
   "id": "d2a6ee75781aad19",
   "execution_count": 3
  },
  {
   "cell_type": "code",
   "outputs": [
    {
     "data": {
      "text/plain": "(218, 47, 47)"
     },
     "execution_count": 4,
     "metadata": {},
     "output_type": "execute_result"
    }
   ],
   "source": [
    "# Separate the features and the target variable\n",
    "X = data.drop(['ID', 'Status'], axis=1)\n",
    "y = data['Status']\n",
    "\n",
    "# Split the data into train+validation (85%) and test (15%)\n",
    "X_train_val, X_test, y_train_val, y_test = train_test_split(X, y, test_size=0.15, random_state=42)\n",
    "\n",
    "# Split the train+validation into train (70%) and validation (15%)\n",
    "X_train, X_val, y_train, y_val = train_test_split(X_train_val, y_train_val, test_size=0.1765, random_state=42)  # 0.1765 of 85% is approximately 15% of the whole\n",
    "\n",
    "# Check the size of each set to confirm the split ratio\n",
    "len(X_train), len(X_val), len(X_test)"
   ],
   "metadata": {
    "collapsed": false,
    "ExecuteTime": {
     "end_time": "2024-05-05T05:53:07.635168Z",
     "start_time": "2024-05-05T05:53:07.622898Z"
    }
   },
   "id": "287e5fbc79fa4431",
   "execution_count": 4
  },
  {
   "cell_type": "code",
   "outputs": [
    {
     "name": "stdout",
     "output_type": "stream",
     "text": [
      "Best paras:  {'init': 'k-means++', 'n_init': 1}\n",
      "Highest Silhouette Score:  0.16056561496782215\n"
     ]
    }
   ],
   "source": [
    "init_options = ['k-means++', 'random']\n",
    "n_init_options = [1, 2, 3, 5, 10, 15]\n",
    "\n",
    "best_score = -1\n",
    "best_params = {}\n",
    "\n",
    "for init in init_options:\n",
    "    for n_init in n_init_options:\n",
    "        # Train model\n",
    "        kmeans = KMeans(n_clusters=3, init=init, n_init=n_init, random_state=42)\n",
    "        kmeans.fit(X_train)\n",
    "        \n",
    "        # Evaluate on validation set\n",
    "        preds = kmeans.predict(X_val)\n",
    "        score = silhouette_score(X_val, preds)\n",
    "        \n",
    "        # get best score and parameters\n",
    "        if score > best_score:\n",
    "            best_score = score\n",
    "            best_params = {'init': init, 'n_init': n_init}\n",
    "\n",
    "print(\"Best paras: \", best_params)\n",
    "print(\"Highest Silhouette Score: \", best_score)"
   ],
   "metadata": {
    "collapsed": false,
    "ExecuteTime": {
     "end_time": "2024-05-05T05:53:07.948295Z",
     "start_time": "2024-05-05T05:53:07.631187Z"
    }
   },
   "id": "187a9ec63e38a5e5",
   "execution_count": 5
  },
  {
   "cell_type": "code",
   "outputs": [
    {
     "name": "stdout",
     "output_type": "stream",
     "text": [
      "Accuracy on test set:  0.7446808510638298\n"
     ]
    }
   ],
   "source": [
    "kmeans_best = KMeans(n_clusters=3, init=best_params['init'], n_init=best_params['n_init'], random_state=42)\n",
    "kmeans_best.fit(X_train_val)\n",
    "\n",
    "test_clusters = kmeans_best.predict(X_test)\n",
    "\n",
    "cluster_to_label_mapping = {}\n",
    "for cluster_id in range(3):\n",
    "    # Most frequent\n",
    "    labels_in_cluster = y_train_val[kmeans_best.labels_ == cluster_id]\n",
    "    most_common_label = labels_in_cluster.mode()[0]\n",
    "    cluster_to_label_mapping[cluster_id] = most_common_label\n",
    "    \n",
    "predicted_labels_test = [cluster_to_label_mapping[cluster] for cluster in test_clusters]\n",
    "accuracy = accuracy_score(y_test, predicted_labels_test)\n",
    "print(\"Accuracy on test set: \", accuracy)"
   ],
   "metadata": {
    "collapsed": false,
    "ExecuteTime": {
     "end_time": "2024-05-05T05:53:07.964123Z",
     "start_time": "2024-05-05T05:53:07.949405Z"
    }
   },
   "id": "fd344579c9862691",
   "execution_count": 6
  },
  {
   "cell_type": "code",
   "outputs": [
    {
     "name": "stdout",
     "output_type": "stream",
     "text": [
      "Best parameters:  {'init': 'random', 'n_init': 1}\n",
      "Highest Silhouette Score:  0.4439449651578369\n"
     ]
    }
   ],
   "source": [
    "pca = PCA(n_components=2)\n",
    "X_train_pca = pca.fit_transform(X_train)\n",
    "X_val_pca = pca.transform(X_val)\n",
    "\n",
    "init_options = ['k-means++', 'random']\n",
    "n_init_options = [1, 2, 3, 5, 10, 15]\n",
    "best_score = -1\n",
    "best_params = {}\n",
    "\n",
    "for init in init_options:\n",
    "    for n_init in n_init_options:\n",
    "        kmeans = KMeans(n_clusters=3, init=init, n_init=n_init, random_state=42)\n",
    "        kmeans.fit(X_train_pca)\n",
    "        \n",
    "        preds = kmeans.predict(X_val_pca)\n",
    "        score = silhouette_score(X_val_pca, preds)\n",
    "        \n",
    "        if score > best_score:\n",
    "            best_score = score\n",
    "            best_params = {'init': init, 'n_init': n_init}\n",
    "\n",
    "print(\"Best parameters: \", best_params)\n",
    "print(\"Highest Silhouette Score: \", best_score)"
   ],
   "metadata": {
    "collapsed": false,
    "ExecuteTime": {
     "end_time": "2024-05-05T05:53:08.150607Z",
     "start_time": "2024-05-05T05:53:07.963316Z"
    }
   },
   "id": "9232a6b428f4f410",
   "execution_count": 7
  },
  {
   "cell_type": "code",
   "outputs": [
    {
     "name": "stdout",
     "output_type": "stream",
     "text": [
      "Accuracy on test set:  0.8085106382978723\n"
     ]
    }
   ],
   "source": [
    "X_train_val_pca = pca.transform(X_train_val)\n",
    "X_test_pca = pca.transform(X_test)\n",
    "\n",
    "kmeans_best = KMeans(n_clusters=3, init=best_params['init'], n_init=best_params['n_init'], random_state=42)\n",
    "kmeans_best.fit(X_train_val_pca)\n",
    "\n",
    "test_clusters = kmeans_best.predict(X_test_pca)\n",
    "\n",
    "cluster_to_label_mapping = {}\n",
    "for cluster_id in range(3):\n",
    "    # Most frequent\n",
    "    labels_in_cluster = y_train_val[kmeans_best.labels_ == cluster_id]\n",
    "    most_common_label = labels_in_cluster.mode()[0]\n",
    "    cluster_to_label_mapping[cluster_id] = most_common_label\n",
    "    \n",
    "predicted_labels_test = [cluster_to_label_mapping[cluster] for cluster in test_clusters]\n",
    "accuracy = accuracy_score(y_test, predicted_labels_test)\n",
    "print(\"Accuracy on test set: \", accuracy)"
   ],
   "metadata": {
    "collapsed": false,
    "ExecuteTime": {
     "end_time": "2024-05-05T05:53:08.165459Z",
     "start_time": "2024-05-05T05:53:08.151087Z"
    }
   },
   "id": "170ccf71fcbebf3d",
   "execution_count": 8
  },
  {
   "cell_type": "code",
   "outputs": [
    {
     "data": {
      "text/plain": "<Figure size 1000x800 with 1 Axes>",
      "image/png": "[encoded data removed]"
     },
     "metadata": {},
     "output_type": "display_data"
    }
   ],
   "source": [
    "# Define a color for each cluster\n",
    "cluster_colors = ['red', 'green', 'blue']\n",
    "# Define a marker for each true label\n",
    "label_markers = {0: 'o', 1: '^', 2: 's'}\n",
    "\n",
    "plt.figure(figsize=(10, 8))\n",
    "\n",
    "# Plot the cluster centers\n",
    "centers = kmeans_best.cluster_centers_\n",
    "for i, center in enumerate(centers):\n",
    "    plt.scatter(center[0], center[1], c=cluster_colors[i], marker='x', s=100, linewidths=3, label=f'Cluster {i} Center')\n",
    "\n",
    "# Plot the test data points\n",
    "for label, marker in label_markers.items():\n",
    "    # Select data points with the current label\n",
    "    ix = y_test == label\n",
    "    \n",
    "    # Plot all test points with the current label\n",
    "    plt.scatter(X_test_pca[ix, 0], X_test_pca[ix, 1], marker=marker, label=f\"Label {label}\")\n",
    "\n",
    "plt.xlabel('PCA 1')\n",
    "plt.ylabel('PCA 2')\n",
    "plt.legend()\n",
    "plt.title('Test Data with Cluster Centers and Labels')\n",
    "plt.show()"
   ],
   "metadata": {
    "collapsed": false,
    "ExecuteTime": {
     "end_time": "2024-05-05T05:53:08.338782Z",
     "start_time": "2024-05-05T05:53:08.166836Z"
    }
   },
   "id": "86d95714b28ecd6d",
   "execution_count": 9
  }
 ],
 "metadata": {
  "kernelspec": {
   "display_name": "Python 3",
   "language": "python",
   "name": "python3"
  },
  "language_info": {
   "codemirror_mode": {
    "name": "ipython",
    "version": 2
   },
   "file_extension": ".py",
   "mimetype": "text/x-python",
   "name": "python",
   "nbconvert_exporter": "python",
   "pygments_lexer": "ipython2",
   "version": "2.7.6"
  }
 },
 "nbformat": 4,
 "nbformat_minor": 5
}
