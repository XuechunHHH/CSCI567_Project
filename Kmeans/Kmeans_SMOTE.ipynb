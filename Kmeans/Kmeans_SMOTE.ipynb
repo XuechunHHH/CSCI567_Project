{
 "cells": [
  {
   "cell_type": "code",
   "execution_count": 1,
   "id": "initial_id",
   "metadata": {
    "collapsed": true,
    "ExecuteTime": {
     "end_time": "2024-05-05T06:05:56.285149Z",
     "start_time": "2024-05-05T06:05:55.283252Z"
    }
   },
   "outputs": [],
   "source": [
    "import pandas as pd\n",
    "import numpy as np\n",
    "from sklearn.model_selection import train_test_split\n",
    "from sklearn.cluster import KMeans\n",
    "from sklearn.metrics import silhouette_score\n",
    "from sklearn.metrics import accuracy_score\n",
    "from sklearn.decomposition import PCA\n",
    "import matplotlib.pyplot as plt\n",
    "import warnings"
   ]
  },
  {
   "cell_type": "code",
   "outputs": [
    {
     "data": {
      "text/plain": "    ID    N_Days       Age  Bilirubin  Cholesterol   Albumin    Copper  \\\n0   99  1.617184 -0.146800  -0.321927     0.409636 -0.405516  0.590972   \n1  155  0.588185 -0.611734  -0.587234    -0.676818 -0.405516 -0.477086   \n2  116  1.185611  1.046118  -0.056619     0.400582  0.262393 -0.277559   \n3  271 -0.389987  0.042906  -0.498798    -0.219602 -0.047708 -0.042821   \n4  184 -0.920536 -1.174891   1.712099     1.378390  0.071562  3.055723   \n\n   Alk_Phos      SGOT  Tryglicerides  Platelets  Prothrombin     Stage  Drug  \\\n0 -0.238964 -0.248308      -0.108401  -0.947607    -0.524219 -1.177506     1   \n1 -0.169707  0.545741      -0.723014   0.518002     0.473076  1.104369     1   \n2 -0.184681 -0.275689       4.161549   1.857083    -0.823408 -0.036569     0   \n3 -0.480897 -0.204145       0.845868   0.286035    -1.022867 -0.036569     1   \n4  0.200914  0.792171       0.247429   2.205033    -0.923137 -0.036569     1   \n\n   Sex  Ascites  Hepatomegaly  Spiders  Edema  Status  \n0    1        1             1        1      1       1  \n1    0        1             0        0      2       1  \n2    0        1             1        0      2       1  \n3    0        1             0        1      1       1  \n4    0        1             0        1      1       0  ",
      "text/html": "<div>\n<style scoped>\n    .dataframe tbody tr th:only-of-type {\n        vertical-align: middle;\n    }\n\n    .dataframe tbody tr th {\n        vertical-align: top;\n    }\n\n    .dataframe thead th {\n        text-align: right;\n    }\n</style>\n<table border=\"1\" class=\"dataframe\">\n  <thead>\n    <tr style=\"text-align: right;\">\n      <th></th>\n      <th>ID</th>\n      <th>N_Days</th>\n      <th>Age</th>\n      <th>Bilirubin</th>\n      <th>Cholesterol</th>\n      <th>Albumin</th>\n      <th>Copper</th>\n      <th>Alk_Phos</th>\n      <th>SGOT</th>\n      <th>Tryglicerides</th>\n      <th>Platelets</th>\n      <th>Prothrombin</th>\n      <th>Stage</th>\n      <th>Drug</th>\n      <th>Sex</th>\n      <th>Ascites</th>\n      <th>Hepatomegaly</th>\n      <th>Spiders</th>\n      <th>Edema</th>\n      <th>Status</th>\n    </tr>\n  </thead>\n  <tbody>\n    <tr>\n      <th>0</th>\n      <td>99</td>\n      <td>1.617184</td>\n      <td>-0.146800</td>\n      <td>-0.321927</td>\n      <td>0.409636</td>\n      <td>-0.405516</td>\n      <td>0.590972</td>\n      <td>-0.238964</td>\n      <td>-0.248308</td>\n      <td>-0.108401</td>\n      <td>-0.947607</td>\n      <td>-0.524219</td>\n      <td>-1.177506</td>\n      <td>1</td>\n      <td>1</td>\n      <td>1</td>\n      <td>1</td>\n      <td>1</td>\n      <td>1</td>\n      <td>1</td>\n    </tr>\n    <tr>\n      <th>1</th>\n      <td>155</td>\n      <td>0.588185</td>\n      <td>-0.611734</td>\n      <td>-0.587234</td>\n      <td>-0.676818</td>\n      <td>-0.405516</td>\n      <td>-0.477086</td>\n      <td>-0.169707</td>\n      <td>0.545741</td>\n      <td>-0.723014</td>\n      <td>0.518002</td>\n      <td>0.473076</td>\n      <td>1.104369</td>\n      <td>1</td>\n      <td>0</td>\n      <td>1</td>\n      <td>0</td>\n      <td>0</td>\n      <td>2</td>\n      <td>1</td>\n    </tr>\n    <tr>\n      <th>2</th>\n      <td>116</td>\n      <td>1.185611</td>\n      <td>1.046118</td>\n      <td>-0.056619</td>\n      <td>0.400582</td>\n      <td>0.262393</td>\n      <td>-0.277559</td>\n      <td>-0.184681</td>\n      <td>-0.275689</td>\n      <td>4.161549</td>\n      <td>1.857083</td>\n      <td>-0.823408</td>\n      <td>-0.036569</td>\n      <td>0</td>\n      <td>0</td>\n      <td>1</td>\n      <td>1</td>\n      <td>0</td>\n      <td>2</td>\n      <td>1</td>\n    </tr>\n    <tr>\n      <th>3</th>\n      <td>271</td>\n      <td>-0.389987</td>\n      <td>0.042906</td>\n      <td>-0.498798</td>\n      <td>-0.219602</td>\n      <td>-0.047708</td>\n      <td>-0.042821</td>\n      <td>-0.480897</td>\n      <td>-0.204145</td>\n      <td>0.845868</td>\n      <td>0.286035</td>\n      <td>-1.022867</td>\n      <td>-0.036569</td>\n      <td>1</td>\n      <td>0</td>\n      <td>1</td>\n      <td>0</td>\n      <td>1</td>\n      <td>1</td>\n      <td>1</td>\n    </tr>\n    <tr>\n      <th>4</th>\n      <td>184</td>\n      <td>-0.920536</td>\n      <td>-1.174891</td>\n      <td>1.712099</td>\n      <td>1.378390</td>\n      <td>0.071562</td>\n      <td>3.055723</td>\n      <td>0.200914</td>\n      <td>0.792171</td>\n      <td>0.247429</td>\n      <td>2.205033</td>\n      <td>-0.923137</td>\n      <td>-0.036569</td>\n      <td>1</td>\n      <td>0</td>\n      <td>1</td>\n      <td>0</td>\n      <td>1</td>\n      <td>1</td>\n      <td>0</td>\n    </tr>\n  </tbody>\n</table>\n</div>"
     },
     "execution_count": 2,
     "metadata": {},
     "output_type": "execute_result"
    }
   ],
   "source": [
    "warnings.filterwarnings('ignore')  # Ignores all warnings\n",
    "# Load the data\n",
    "train_path = 'train_smote.csv'\n",
    "test_path = 'test.csv'\n",
    "val_path = 'val.csv'\n",
    "train = pd.read_csv(train_path)\n",
    "test = pd.read_csv(test_path)\n",
    "val = pd.read_csv(val_path)\n",
    "# Display the first few rows of the dataframe to understand its structure\n",
    "train.head()"
   ],
   "metadata": {
    "collapsed": false,
    "ExecuteTime": {
     "end_time": "2024-05-05T06:05:56.303564Z",
     "start_time": "2024-05-05T06:05:56.287183Z"
    }
   },
   "id": "d2a6ee75781aad19",
   "execution_count": 2
  },
  {
   "cell_type": "code",
   "outputs": [
    {
     "data": {
      "text/plain": "(357, 47, 404, 47)"
     },
     "execution_count": 3,
     "metadata": {},
     "output_type": "execute_result"
    }
   ],
   "source": [
    "# Separate the features and the target variable\n",
    "X_train = train.drop(['ID', 'Status'], axis=1)\n",
    "y_train = train['Status']\n",
    "X_test = test.drop(['ID', 'Status'], axis=1)\n",
    "y_test = test['Status']\n",
    "X_val = val.drop(['ID', 'Status'], axis=1)\n",
    "y_val = val['Status']\n",
    "X_train_val = pd.concat([X_train, X_val], ignore_index=True)\n",
    "y_train_val = pd.concat([y_train, y_val], ignore_index=True)\n",
    "\n",
    "# Check the size of each set to confirm the split ratio\n",
    "len(X_train), len(X_val), len(X_train_val), len(X_test)"
   ],
   "metadata": {
    "collapsed": false,
    "ExecuteTime": {
     "end_time": "2024-05-05T06:05:56.309261Z",
     "start_time": "2024-05-05T06:05:56.306676Z"
    }
   },
   "id": "287e5fbc79fa4431",
   "execution_count": 3
  },
  {
   "cell_type": "code",
   "outputs": [
    {
     "name": "stdout",
     "output_type": "stream",
     "text": [
      "Best paras:  {'init': 'k-means++', 'n_init': 5}\n",
      "Highest Silhouette Score:  0.1972548595542185\n"
     ]
    }
   ],
   "source": [
    "init_options = ['k-means++', 'random']\n",
    "n_init_options = [1, 2, 3, 5, 10, 15]\n",
    "\n",
    "best_score = -1\n",
    "best_params = {}\n",
    "\n",
    "for init in init_options:\n",
    "    for n_init in n_init_options:\n",
    "        # Train model\n",
    "        kmeans = KMeans(n_clusters=3, init=init, n_init=n_init, random_state=42)\n",
    "        kmeans.fit(X_train)\n",
    "        \n",
    "        # Evaluate on validation set\n",
    "        preds = kmeans.predict(X_val)\n",
    "        score = silhouette_score(X_val, preds)\n",
    "        \n",
    "        # get best score and parameters\n",
    "        if score > best_score:\n",
    "            best_score = score\n",
    "            best_params = {'init': init, 'n_init': n_init}\n",
    "\n",
    "print(\"Best paras: \", best_params)\n",
    "print(\"Highest Silhouette Score: \", best_score)"
   ],
   "metadata": {
    "collapsed": false,
    "ExecuteTime": {
     "end_time": "2024-05-05T06:05:56.584188Z",
     "start_time": "2024-05-05T06:05:56.311701Z"
    }
   },
   "id": "187a9ec63e38a5e5",
   "execution_count": 4
  },
  {
   "cell_type": "code",
   "outputs": [
    {
     "name": "stdout",
     "output_type": "stream",
     "text": [
      "Accuracy on test set:  0.6808510638297872\n"
     ]
    }
   ],
   "source": [
    "kmeans_best = KMeans(n_clusters=3, init=best_params['init'], n_init=best_params['n_init'], random_state=42)\n",
    "kmeans_best.fit(X_train_val)\n",
    "\n",
    "test_clusters = kmeans_best.predict(X_test)\n",
    "\n",
    "cluster_to_label_mapping = {}\n",
    "for cluster_id in range(3):\n",
    "    # Most frequent\n",
    "    labels_in_cluster = y_train_val[kmeans_best.labels_ == cluster_id]\n",
    "    most_common_label = labels_in_cluster.mode()[0]\n",
    "    cluster_to_label_mapping[cluster_id] = most_common_label\n",
    "    \n",
    "predicted_labels_test = [cluster_to_label_mapping[cluster] for cluster in test_clusters]\n",
    "accuracy = accuracy_score(y_test, predicted_labels_test)\n",
    "print(\"Accuracy on test set: \", accuracy)"
   ],
   "metadata": {
    "collapsed": false,
    "ExecuteTime": {
     "end_time": "2024-05-05T06:05:56.610008Z",
     "start_time": "2024-05-05T06:05:56.586651Z"
    }
   },
   "id": "fd344579c9862691",
   "execution_count": 5
  },
  {
   "cell_type": "code",
   "outputs": [
    {
     "name": "stdout",
     "output_type": "stream",
     "text": [
      "Best parameters:  {'init': 'k-means++', 'n_init': 1}\n",
      "Highest Silhouette Score:  0.4208521835230009\n"
     ]
    }
   ],
   "source": [
    "pca = PCA(n_components=2)\n",
    "X_train_pca = pca.fit_transform(X_train)\n",
    "X_val_pca = pca.transform(X_val)\n",
    "\n",
    "init_options = ['k-means++', 'random']\n",
    "n_init_options = [1, 2, 3, 5, 10, 15]\n",
    "best_score = -1\n",
    "best_params = {}\n",
    "\n",
    "for init in init_options:\n",
    "    for n_init in n_init_options:\n",
    "        kmeans = KMeans(n_clusters=3, init=init, n_init=n_init, random_state=42)\n",
    "        kmeans.fit(X_train_pca)\n",
    "        \n",
    "        preds = kmeans.predict(X_val_pca)\n",
    "        score = silhouette_score(X_val_pca, preds)\n",
    "        \n",
    "        if score > best_score:\n",
    "            best_score = score\n",
    "            best_params = {'init': init, 'n_init': n_init}\n",
    "\n",
    "print(\"Best parameters: \", best_params)\n",
    "print(\"Highest Silhouette Score: \", best_score)"
   ],
   "metadata": {
    "collapsed": false,
    "ExecuteTime": {
     "end_time": "2024-05-05T06:05:56.797097Z",
     "start_time": "2024-05-05T06:05:56.611534Z"
    }
   },
   "id": "9232a6b428f4f410",
   "execution_count": 6
  },
  {
   "cell_type": "code",
   "outputs": [
    {
     "name": "stdout",
     "output_type": "stream",
     "text": [
      "Accuracy on test set:  0.7446808510638298\n"
     ]
    }
   ],
   "source": [
    "X_train_val_pca = pca.transform(X_train_val)\n",
    "X_test_pca = pca.transform(X_test)\n",
    "\n",
    "kmeans_best = KMeans(n_clusters=3, init=best_params['init'], n_init=best_params['n_init'], random_state=42)\n",
    "kmeans_best.fit(X_train_val_pca)\n",
    "\n",
    "test_clusters = kmeans_best.predict(X_test_pca)\n",
    "\n",
    "cluster_to_label_mapping = {}\n",
    "for cluster_id in range(3):\n",
    "    # Most frequent\n",
    "    labels_in_cluster = y_train_val[kmeans_best.labels_ == cluster_id]\n",
    "    most_common_label = labels_in_cluster.mode()[0]\n",
    "    cluster_to_label_mapping[cluster_id] = most_common_label\n",
    "    \n",
    "predicted_labels_test = [cluster_to_label_mapping[cluster] for cluster in test_clusters]\n",
    "accuracy = accuracy_score(y_test, predicted_labels_test)\n",
    "print(\"Accuracy on test set: \", accuracy)"
   ],
   "metadata": {
    "collapsed": false,
    "ExecuteTime": {
     "end_time": "2024-05-05T06:05:56.810255Z",
     "start_time": "2024-05-05T06:05:56.799689Z"
    }
   },
   "id": "170ccf71fcbebf3d",
   "execution_count": 7
  },
  {
   "cell_type": "code",
   "outputs": [
    {
     "data": {
      "text/plain": "<Figure size 1000x800 with 1 Axes>",
      "image/png": "[encoded data removed]"
     },
     "metadata": {},
     "output_type": "display_data"
    }
   ],
   "source": [
    "# Define a color for each cluster\n",
    "cluster_colors = ['red', 'green', 'blue']\n",
    "# Define a marker for each true label\n",
    "label_markers = {0: 'o', 1: '^', 2: 's'}\n",
    "\n",
    "plt.figure(figsize=(10, 8))\n",
    "\n",
    "# Plot the cluster centers\n",
    "centers = kmeans_best.cluster_centers_\n",
    "for i, center in enumerate(centers):\n",
    "    plt.scatter(center[0], center[1], c=cluster_colors[i], marker='x', s=100, linewidths=3, label=f'Cluster {i} Center')\n",
    "\n",
    "# Plot the test data points\n",
    "for label, marker in label_markers.items():\n",
    "    # Select data points with the current label\n",
    "    ix = y_test == label\n",
    "    \n",
    "    # Plot all test points with the current label\n",
    "    plt.scatter(X_test_pca[ix, 0], X_test_pca[ix, 1], marker=marker, label=f\"Label {label}\")\n",
    "\n",
    "plt.xlabel('PCA 1')\n",
    "plt.ylabel('PCA 2')\n",
    "plt.legend()\n",
    "plt.title('Test Data with Cluster Centers and Labels')\n",
    "plt.show()"
   ],
   "metadata": {
    "collapsed": false,
    "ExecuteTime": {
     "end_time": "2024-05-05T06:05:56.964487Z",
     "start_time": "2024-05-05T06:05:56.812119Z"
    }
   },
   "id": "86d95714b28ecd6d",
   "execution_count": 8
  },
  {
   "cell_type": "code",
   "outputs": [],
   "source": [],
   "metadata": {
    "collapsed": false,
    "ExecuteTime": {
     "end_time": "2024-05-05T06:05:56.964761Z",
     "start_time": "2024-05-05T06:05:56.962417Z"
    }
   },
   "id": "9b3355f7d11101ab",
   "execution_count": 8
  }
 ],
 "metadata": {
  "kernelspec": {
   "display_name": "Python 3",
   "language": "python",
   "name": "python3"
  },
  "language_info": {
   "codemirror_mode": {
    "name": "ipython",
    "version": 2
   },
   "file_extension": ".py",
   "mimetype": "text/x-python",
   "name": "python",
   "nbconvert_exporter": "python",
   "pygments_lexer": "ipython2",
   "version": "2.7.6"
  }
 },
 "nbformat": 4,
 "nbformat_minor": 5
}
