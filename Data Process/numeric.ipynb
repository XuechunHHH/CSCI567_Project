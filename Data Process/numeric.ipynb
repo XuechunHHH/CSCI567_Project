{
 "cells": [
  {
   "cell_type": "code",
   "outputs": [
    {
     "data": {
      "text/plain": "   ID  N_Days    Age  Bilirubin  Cholesterol  Albumin  Copper  Alk_Phos  \\\n0   1     400  21464       14.5        261.0     2.60   156.0    1718.0   \n1   2    4500  20617        1.1        302.0     4.14    54.0    7394.8   \n2   3    1012  25594        1.4        176.0     3.48   210.0     516.0   \n3   4    1925  19994        1.8        244.0     2.54    64.0    6121.8   \n4   5    1504  13918        3.4        279.0     3.53   143.0     671.0   \n\n     SGOT  Tryglicerides  Platelets  Prothrombin  Stage Status  \\\n0  137.95          172.0      190.0         12.2    4.0      D   \n1  113.52           88.0      221.0         10.6    3.0      C   \n2   96.10           55.0      151.0         12.0    4.0      D   \n3   60.63           92.0      183.0         10.3    4.0      D   \n4  113.15           72.0      136.0         10.9    3.0     CL   \n\n              Drug Sex Ascites Hepatomegaly Spiders Edema  \n0  D-penicillamine   F       Y            Y       Y     Y  \n1  D-penicillamine   F       N            Y       Y     N  \n2  D-penicillamine   M       N            N       N     S  \n3  D-penicillamine   F       N            Y       Y     S  \n4          Placebo   F       N            Y       Y     N  ",
      "text/html": "<div>\n<style scoped>\n    .dataframe tbody tr th:only-of-type {\n        vertical-align: middle;\n    }\n\n    .dataframe tbody tr th {\n        vertical-align: top;\n    }\n\n    .dataframe thead th {\n        text-align: right;\n    }\n</style>\n<table border=\"1\" class=\"dataframe\">\n  <thead>\n    <tr style=\"text-align: right;\">\n      <th></th>\n      <th>ID</th>\n      <th>N_Days</th>\n      <th>Age</th>\n      <th>Bilirubin</th>\n      <th>Cholesterol</th>\n      <th>Albumin</th>\n      <th>Copper</th>\n      <th>Alk_Phos</th>\n      <th>SGOT</th>\n      <th>Tryglicerides</th>\n      <th>Platelets</th>\n      <th>Prothrombin</th>\n      <th>Stage</th>\n      <th>Status</th>\n      <th>Drug</th>\n      <th>Sex</th>\n      <th>Ascites</th>\n      <th>Hepatomegaly</th>\n      <th>Spiders</th>\n      <th>Edema</th>\n    </tr>\n  </thead>\n  <tbody>\n    <tr>\n      <th>0</th>\n      <td>1</td>\n      <td>400</td>\n      <td>21464</td>\n      <td>14.5</td>\n      <td>261.0</td>\n      <td>2.60</td>\n      <td>156.0</td>\n      <td>1718.0</td>\n      <td>137.95</td>\n      <td>172.0</td>\n      <td>190.0</td>\n      <td>12.2</td>\n      <td>4.0</td>\n      <td>D</td>\n      <td>D-penicillamine</td>\n      <td>F</td>\n      <td>Y</td>\n      <td>Y</td>\n      <td>Y</td>\n      <td>Y</td>\n    </tr>\n    <tr>\n      <th>1</th>\n      <td>2</td>\n      <td>4500</td>\n      <td>20617</td>\n      <td>1.1</td>\n      <td>302.0</td>\n      <td>4.14</td>\n      <td>54.0</td>\n      <td>7394.8</td>\n      <td>113.52</td>\n      <td>88.0</td>\n      <td>221.0</td>\n      <td>10.6</td>\n      <td>3.0</td>\n      <td>C</td>\n      <td>D-penicillamine</td>\n      <td>F</td>\n      <td>N</td>\n      <td>Y</td>\n      <td>Y</td>\n      <td>N</td>\n    </tr>\n    <tr>\n      <th>2</th>\n      <td>3</td>\n      <td>1012</td>\n      <td>25594</td>\n      <td>1.4</td>\n      <td>176.0</td>\n      <td>3.48</td>\n      <td>210.0</td>\n      <td>516.0</td>\n      <td>96.10</td>\n      <td>55.0</td>\n      <td>151.0</td>\n      <td>12.0</td>\n      <td>4.0</td>\n      <td>D</td>\n      <td>D-penicillamine</td>\n      <td>M</td>\n      <td>N</td>\n      <td>N</td>\n      <td>N</td>\n      <td>S</td>\n    </tr>\n    <tr>\n      <th>3</th>\n      <td>4</td>\n      <td>1925</td>\n      <td>19994</td>\n      <td>1.8</td>\n      <td>244.0</td>\n      <td>2.54</td>\n      <td>64.0</td>\n      <td>6121.8</td>\n      <td>60.63</td>\n      <td>92.0</td>\n      <td>183.0</td>\n      <td>10.3</td>\n      <td>4.0</td>\n      <td>D</td>\n      <td>D-penicillamine</td>\n      <td>F</td>\n      <td>N</td>\n      <td>Y</td>\n      <td>Y</td>\n      <td>S</td>\n    </tr>\n    <tr>\n      <th>4</th>\n      <td>5</td>\n      <td>1504</td>\n      <td>13918</td>\n      <td>3.4</td>\n      <td>279.0</td>\n      <td>3.53</td>\n      <td>143.0</td>\n      <td>671.0</td>\n      <td>113.15</td>\n      <td>72.0</td>\n      <td>136.0</td>\n      <td>10.9</td>\n      <td>3.0</td>\n      <td>CL</td>\n      <td>Placebo</td>\n      <td>F</td>\n      <td>N</td>\n      <td>Y</td>\n      <td>Y</td>\n      <td>N</td>\n    </tr>\n  </tbody>\n</table>\n</div>"
     },
     "execution_count": 11,
     "metadata": {},
     "output_type": "execute_result"
    }
   ],
   "source": [
    "import pandas as pd\n",
    "import numpy as np\n",
    "from sklearn.preprocessing import StandardScaler\n",
    "\n",
    "# Load the cleaned dataset\n",
    "file_path = 'cirrhosis_drop.csv'\n",
    "cirrhosis_data = pd.read_csv(file_path)\n",
    "\n",
    "cirrhosis_data.head()"
   ],
   "metadata": {
    "collapsed": false,
    "ExecuteTime": {
     "end_time": "2024-04-07T21:21:16.899853Z",
     "start_time": "2024-04-07T21:21:16.870703Z"
    }
   },
   "id": "3ceee3b8d8e2a363",
   "execution_count": 11
  },
  {
   "cell_type": "code",
   "outputs": [
    {
     "data": {
      "text/plain": "(['N_Days',\n  'Age',\n  'Bilirubin',\n  'Cholesterol',\n  'Albumin',\n  'Copper',\n  'Alk_Phos',\n  'SGOT',\n  'Tryglicerides',\n  'Platelets',\n  'Prothrombin',\n  'Stage'],\n ['Status', 'Drug', 'Sex', 'Ascites', 'Hepatomegaly', 'Spiders', 'Edema'])"
     },
     "execution_count": 12,
     "metadata": {},
     "output_type": "execute_result"
    }
   ],
   "source": [
    "# Identify numerical and categorical columns\n",
    "numerical_cols = cirrhosis_data.select_dtypes(include=['float64', 'int64']).columns.tolist()\n",
    "categorical_cols = cirrhosis_data.select_dtypes(include=['object', 'bool']).columns.tolist()\n",
    "numerical_cols.remove('ID')\n",
    "numerical_cols, categorical_cols"
   ],
   "metadata": {
    "collapsed": false,
    "ExecuteTime": {
     "end_time": "2024-04-07T21:21:16.908191Z",
     "start_time": "2024-04-07T21:21:16.901668Z"
    }
   },
   "id": "6f9fffa156ef8a2f",
   "execution_count": 12
  },
  {
   "cell_type": "code",
   "outputs": [],
   "source": [
    "# Standardizing numerical features\n",
    "scaler = StandardScaler()\n",
    "cirrhosis_data_scaled = cirrhosis_data.copy()\n",
    "cirrhosis_data_scaled[numerical_cols] = scaler.fit_transform(cirrhosis_data_scaled[numerical_cols])"
   ],
   "metadata": {
    "collapsed": false,
    "ExecuteTime": {
     "end_time": "2024-04-07T21:21:16.915632Z",
     "start_time": "2024-04-07T21:21:16.910507Z"
    }
   },
   "id": "d59ca723c32626ef",
   "execution_count": 13
  },
  {
   "cell_type": "code",
   "outputs": [],
   "source": [
    "# Dictionary to hold conversion tables for each non-numeric column\n",
    "conversion_tables = {}\n",
    "\n",
    "# Convert each non-numeric column to numeric values\n",
    "for column in categorical_cols:\n",
    "    # Generating a mapping from unique string values to numeric values\n",
    "    unique_values = cirrhosis_data_scaled[column].unique()\n",
    "    mapping_dict = {value: idx for idx, value in enumerate(unique_values)}\n",
    "\n",
    "    # Applying the mapping to the column\n",
    "    cirrhosis_data_scaled[column] = cirrhosis_data_scaled[column].map(mapping_dict)\n",
    "\n",
    "    # Storing the conversion table\n",
    "    conversion_tables[column] = mapping_dict"
   ],
   "metadata": {
    "collapsed": false,
    "ExecuteTime": {
     "end_time": "2024-04-07T21:21:16.944249Z",
     "start_time": "2024-04-07T21:21:16.917065Z"
    }
   },
   "id": "deefa17d0b1971f2",
   "execution_count": 14
  },
  {
   "cell_type": "code",
   "outputs": [
    {
     "data": {
      "text/plain": "(   ID    N_Days       Age  Bilirubin  Cholesterol   Albumin    Copper  \\\n 0   1 -1.432360  0.827904   2.485914    -0.491215 -2.194559  0.684867   \n 1   2  2.223526  0.608395  -0.476689    -0.305613  1.478942 -0.512297   \n 2   3 -0.886652  1.898239  -0.410362    -0.876001 -0.095416  1.318660   \n 3   4 -0.072549  0.446938  -0.321927    -0.568172 -2.337683 -0.394928   \n 4   5 -0.447946 -1.127724   0.031817    -0.409731  0.023854  0.532288   \n \n    Alk_Phos      SGOT  Tryglicerides  Platelets  Prothrombin     Stage  \\\n 0 -0.123847  0.271931       0.764998  -0.757816     1.470371  1.104369   \n 1  2.532642 -0.159629      -0.593622  -0.430953    -0.125301 -0.036569   \n 2 -0.686329 -0.467356      -1.127366  -1.169029     1.270912  1.104369   \n 3  1.936935 -1.093939      -0.528926  -0.831623    -0.424490  1.104369   \n 4 -0.613796 -0.166165      -0.852407  -1.327189     0.173887 -0.036569   \n \n    Status  Drug  Sex  Ascites  Hepatomegaly  Spiders  Edema  \n 0       0     0    0        0             0        0      0  \n 1       1     0    0        1             0        0      1  \n 2       0     0    1        1             1        1      2  \n 3       0     0    0        1             0        0      2  \n 4       2     1    0        1             0        0      1  ,\n {'Status': {'D': 0, 'C': 1, 'CL': 2},\n  'Drug': {'D-penicillamine': 0, 'Placebo': 1},\n  'Sex': {'F': 0, 'M': 1},\n  'Ascites': {'Y': 0, 'N': 1},\n  'Hepatomegaly': {'Y': 0, 'N': 1},\n  'Spiders': {'Y': 0, 'N': 1},\n  'Edema': {'Y': 0, 'N': 1, 'S': 2}})"
     },
     "execution_count": 15,
     "metadata": {},
     "output_type": "execute_result"
    }
   ],
   "source": [
    "cirrhosis_data_scaled.head(), conversion_tables"
   ],
   "metadata": {
    "collapsed": false,
    "ExecuteTime": {
     "end_time": "2024-04-07T21:21:16.944945Z",
     "start_time": "2024-04-07T21:21:16.928565Z"
    }
   },
   "id": "eb943a4942b2ebd3",
   "execution_count": 15
  },
  {
   "cell_type": "code",
   "outputs": [],
   "source": [
    "cirrhosis_data_scaled.to_csv('cirrhosis_clean.csv', index=False)"
   ],
   "metadata": {
    "collapsed": false,
    "ExecuteTime": {
     "end_time": "2024-04-07T21:21:16.958068Z",
     "start_time": "2024-04-07T21:21:16.932776Z"
    }
   },
   "id": "c10233b686c88f75",
   "execution_count": 16
  }
 ],
 "metadata": {
  "kernelspec": {
   "display_name": "Python 3",
   "language": "python",
   "name": "python3"
  },
  "language_info": {
   "codemirror_mode": {
    "name": "ipython",
    "version": 2
   },
   "file_extension": ".py",
   "mimetype": "text/x-python",
   "name": "python",
   "nbconvert_exporter": "python",
   "pygments_lexer": "ipython2",
   "version": "2.7.6"
  }
 },
 "nbformat": 4,
 "nbformat_minor": 5
}
